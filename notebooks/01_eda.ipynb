{
 "cells": [
  {
   "cell_type": "code",
   "execution_count": 2,
   "id": "1a9c1b9f",
   "metadata": {},
   "outputs": [
    {
     "name": "stdout",
     "output_type": "stream",
     "text": [
      "Note: you may need to restart the kernel to use updated packages.\n"
     ]
    },
    {
     "name": "stderr",
     "output_type": "stream",
     "text": [
      "ERROR: Could not open requirements file: [Errno 2] No such file or directory: 'requirements.txt'\n"
     ]
    }
   ],
   "source": [
    "%pip install -r requirements.txt"
   ]
  },
  {
   "cell_type": "code",
   "execution_count": 3,
   "id": "c0c89acd",
   "metadata": {},
   "outputs": [
    {
     "name": "stdout",
     "output_type": "stream",
     "text": [
      "Requirement already satisfied: pandas in c:\\users\\dell\\desktop\\patient-diagnosis-insight project\\.conda\\lib\\site-packages (from -r C:\\Users\\DELL\\Desktop\\Patient-diagnosis-insight Project\\requirements.txt (line 1)) (2.3.3)\n",
      "Requirement already satisfied: numpy in c:\\users\\dell\\desktop\\patient-diagnosis-insight project\\.conda\\lib\\site-packages (from -r C:\\Users\\DELL\\Desktop\\Patient-diagnosis-insight Project\\requirements.txt (line 2)) (2.3.4)\n",
      "Requirement already satisfied: matplotlib in c:\\users\\dell\\desktop\\patient-diagnosis-insight project\\.conda\\lib\\site-packages (from -r C:\\Users\\DELL\\Desktop\\Patient-diagnosis-insight Project\\requirements.txt (line 3)) (3.10.7)\n",
      "Requirement already satisfied: scikit-learn in c:\\users\\dell\\desktop\\patient-diagnosis-insight project\\.conda\\lib\\site-packages (from -r C:\\Users\\DELL\\Desktop\\Patient-diagnosis-insight Project\\requirements.txt (line 4)) (1.7.2)\n",
      "Requirement already satisfied: seaborn in c:\\users\\dell\\desktop\\patient-diagnosis-insight project\\.conda\\lib\\site-packages (from -r C:\\Users\\DELL\\Desktop\\Patient-diagnosis-insight Project\\requirements.txt (line 5)) (0.13.2)\n",
      "Requirement already satisfied: jupyter in c:\\users\\dell\\desktop\\patient-diagnosis-insight project\\.conda\\lib\\site-packages (from -r C:\\Users\\DELL\\Desktop\\Patient-diagnosis-insight Project\\requirements.txt (line 6)) (1.1.1)\n",
      "Requirement already satisfied: xgboost in c:\\users\\dell\\desktop\\patient-diagnosis-insight project\\.conda\\lib\\site-packages (from -r C:\\Users\\DELL\\Desktop\\Patient-diagnosis-insight Project\\requirements.txt (line 7)) (3.1.0)\n",
      "Requirement already satisfied: python-dateutil>=2.8.2 in c:\\users\\dell\\appdata\\roaming\\python\\python312\\site-packages (from pandas->-r C:\\Users\\DELL\\Desktop\\Patient-diagnosis-insight Project\\requirements.txt (line 1)) (2.9.0.post0)\n",
      "Requirement already satisfied: pytz>=2020.1 in c:\\users\\dell\\desktop\\patient-diagnosis-insight project\\.conda\\lib\\site-packages (from pandas->-r C:\\Users\\DELL\\Desktop\\Patient-diagnosis-insight Project\\requirements.txt (line 1)) (2025.2)\n",
      "Requirement already satisfied: tzdata>=2022.7 in c:\\users\\dell\\desktop\\patient-diagnosis-insight project\\.conda\\lib\\site-packages (from pandas->-r C:\\Users\\DELL\\Desktop\\Patient-diagnosis-insight Project\\requirements.txt (line 1)) (2025.2)\n",
      "Requirement already satisfied: contourpy>=1.0.1 in c:\\users\\dell\\desktop\\patient-diagnosis-insight project\\.conda\\lib\\site-packages (from matplotlib->-r C:\\Users\\DELL\\Desktop\\Patient-diagnosis-insight Project\\requirements.txt (line 3)) (1.3.3)\n",
      "Requirement already satisfied: cycler>=0.10 in c:\\users\\dell\\desktop\\patient-diagnosis-insight project\\.conda\\lib\\site-packages (from matplotlib->-r C:\\Users\\DELL\\Desktop\\Patient-diagnosis-insight Project\\requirements.txt (line 3)) (0.12.1)\n",
      "Requirement already satisfied: fonttools>=4.22.0 in c:\\users\\dell\\desktop\\patient-diagnosis-insight project\\.conda\\lib\\site-packages (from matplotlib->-r C:\\Users\\DELL\\Desktop\\Patient-diagnosis-insight Project\\requirements.txt (line 3)) (4.60.1)\n",
      "Requirement already satisfied: kiwisolver>=1.3.1 in c:\\users\\dell\\desktop\\patient-diagnosis-insight project\\.conda\\lib\\site-packages (from matplotlib->-r C:\\Users\\DELL\\Desktop\\Patient-diagnosis-insight Project\\requirements.txt (line 3)) (1.4.9)\n",
      "Requirement already satisfied: packaging>=20.0 in c:\\users\\dell\\appdata\\roaming\\python\\python312\\site-packages (from matplotlib->-r C:\\Users\\DELL\\Desktop\\Patient-diagnosis-insight Project\\requirements.txt (line 3)) (25.0)\n",
      "Requirement already satisfied: pillow>=8 in c:\\users\\dell\\desktop\\patient-diagnosis-insight project\\.conda\\lib\\site-packages (from matplotlib->-r C:\\Users\\DELL\\Desktop\\Patient-diagnosis-insight Project\\requirements.txt (line 3)) (12.0.0)\n",
      "Requirement already satisfied: pyparsing>=3 in c:\\users\\dell\\desktop\\patient-diagnosis-insight project\\.conda\\lib\\site-packages (from matplotlib->-r C:\\Users\\DELL\\Desktop\\Patient-diagnosis-insight Project\\requirements.txt (line 3)) (3.2.5)\n",
      "Requirement already satisfied: scipy>=1.8.0 in c:\\users\\dell\\desktop\\patient-diagnosis-insight project\\.conda\\lib\\site-packages (from scikit-learn->-r C:\\Users\\DELL\\Desktop\\Patient-diagnosis-insight Project\\requirements.txt (line 4)) (1.16.2)\n",
      "Requirement already satisfied: joblib>=1.2.0 in c:\\users\\dell\\desktop\\patient-diagnosis-insight project\\.conda\\lib\\site-packages (from scikit-learn->-r C:\\Users\\DELL\\Desktop\\Patient-diagnosis-insight Project\\requirements.txt (line 4)) (1.5.2)\n",
      "Requirement already satisfied: threadpoolctl>=3.1.0 in c:\\users\\dell\\desktop\\patient-diagnosis-insight project\\.conda\\lib\\site-packages (from scikit-learn->-r C:\\Users\\DELL\\Desktop\\Patient-diagnosis-insight Project\\requirements.txt (line 4)) (3.6.0)\n",
      "Requirement already satisfied: notebook in c:\\users\\dell\\desktop\\patient-diagnosis-insight project\\.conda\\lib\\site-packages (from jupyter->-r C:\\Users\\DELL\\Desktop\\Patient-diagnosis-insight Project\\requirements.txt (line 6)) (7.4.7)\n",
      "Requirement already satisfied: jupyter-console in c:\\users\\dell\\desktop\\patient-diagnosis-insight project\\.conda\\lib\\site-packages (from jupyter->-r C:\\Users\\DELL\\Desktop\\Patient-diagnosis-insight Project\\requirements.txt (line 6)) (6.6.3)\n",
      "Requirement already satisfied: nbconvert in c:\\users\\dell\\desktop\\patient-diagnosis-insight project\\.conda\\lib\\site-packages (from jupyter->-r C:\\Users\\DELL\\Desktop\\Patient-diagnosis-insight Project\\requirements.txt (line 6)) (7.16.6)\n",
      "Requirement already satisfied: ipykernel in c:\\users\\dell\\appdata\\roaming\\python\\python312\\site-packages (from jupyter->-r C:\\Users\\DELL\\Desktop\\Patient-diagnosis-insight Project\\requirements.txt (line 6)) (6.29.5)\n",
      "Requirement already satisfied: ipywidgets in c:\\users\\dell\\desktop\\patient-diagnosis-insight project\\.conda\\lib\\site-packages (from jupyter->-r C:\\Users\\DELL\\Desktop\\Patient-diagnosis-insight Project\\requirements.txt (line 6)) (8.1.7)\n",
      "Requirement already satisfied: jupyterlab in c:\\users\\dell\\desktop\\patient-diagnosis-insight project\\.conda\\lib\\site-packages (from jupyter->-r C:\\Users\\DELL\\Desktop\\Patient-diagnosis-insight Project\\requirements.txt (line 6)) (4.4.9)\n",
      "Requirement already satisfied: six>=1.5 in c:\\users\\dell\\appdata\\roaming\\python\\python312\\site-packages (from python-dateutil>=2.8.2->pandas->-r C:\\Users\\DELL\\Desktop\\Patient-diagnosis-insight Project\\requirements.txt (line 1)) (1.17.0)\n",
      "Requirement already satisfied: comm>=0.1.1 in c:\\users\\dell\\appdata\\roaming\\python\\python312\\site-packages (from ipykernel->jupyter->-r C:\\Users\\DELL\\Desktop\\Patient-diagnosis-insight Project\\requirements.txt (line 6)) (0.2.2)\n",
      "Requirement already satisfied: debugpy>=1.6.5 in c:\\users\\dell\\appdata\\roaming\\python\\python312\\site-packages (from ipykernel->jupyter->-r C:\\Users\\DELL\\Desktop\\Patient-diagnosis-insight Project\\requirements.txt (line 6)) (1.8.14)\n",
      "Requirement already satisfied: ipython>=7.23.1 in c:\\users\\dell\\appdata\\roaming\\python\\python312\\site-packages (from ipykernel->jupyter->-r C:\\Users\\DELL\\Desktop\\Patient-diagnosis-insight Project\\requirements.txt (line 6)) (9.4.0)\n",
      "Requirement already satisfied: jupyter-client>=6.1.12 in c:\\users\\dell\\appdata\\roaming\\python\\python312\\site-packages (from ipykernel->jupyter->-r C:\\Users\\DELL\\Desktop\\Patient-diagnosis-insight Project\\requirements.txt (line 6)) (8.6.3)\n",
      "Requirement already satisfied: jupyter-core!=5.0.*,>=4.12 in c:\\users\\dell\\appdata\\roaming\\python\\python312\\site-packages (from ipykernel->jupyter->-r C:\\Users\\DELL\\Desktop\\Patient-diagnosis-insight Project\\requirements.txt (line 6)) (5.8.1)\n",
      "Requirement already satisfied: matplotlib-inline>=0.1 in c:\\users\\dell\\appdata\\roaming\\python\\python312\\site-packages (from ipykernel->jupyter->-r C:\\Users\\DELL\\Desktop\\Patient-diagnosis-insight Project\\requirements.txt (line 6)) (0.1.7)\n",
      "Requirement already satisfied: nest-asyncio in c:\\users\\dell\\appdata\\roaming\\python\\python312\\site-packages (from ipykernel->jupyter->-r C:\\Users\\DELL\\Desktop\\Patient-diagnosis-insight Project\\requirements.txt (line 6)) (1.6.0)\n",
      "Requirement already satisfied: psutil in c:\\users\\dell\\appdata\\roaming\\python\\python312\\site-packages (from ipykernel->jupyter->-r C:\\Users\\DELL\\Desktop\\Patient-diagnosis-insight Project\\requirements.txt (line 6)) (7.0.0)\n",
      "Requirement already satisfied: pyzmq>=24 in c:\\users\\dell\\appdata\\roaming\\python\\python312\\site-packages (from ipykernel->jupyter->-r C:\\Users\\DELL\\Desktop\\Patient-diagnosis-insight Project\\requirements.txt (line 6)) (27.0.0)\n",
      "Requirement already satisfied: tornado>=6.1 in c:\\users\\dell\\appdata\\roaming\\python\\python312\\site-packages (from ipykernel->jupyter->-r C:\\Users\\DELL\\Desktop\\Patient-diagnosis-insight Project\\requirements.txt (line 6)) (6.5.1)\n",
      "Requirement already satisfied: traitlets>=5.4.0 in c:\\users\\dell\\appdata\\roaming\\python\\python312\\site-packages (from ipykernel->jupyter->-r C:\\Users\\DELL\\Desktop\\Patient-diagnosis-insight Project\\requirements.txt (line 6)) (5.14.3)\n",
      "Requirement already satisfied: colorama in c:\\users\\dell\\appdata\\roaming\\python\\python312\\site-packages (from ipython>=7.23.1->ipykernel->jupyter->-r C:\\Users\\DELL\\Desktop\\Patient-diagnosis-insight Project\\requirements.txt (line 6)) (0.4.6)\n",
      "Requirement already satisfied: decorator in c:\\users\\dell\\appdata\\roaming\\python\\python312\\site-packages (from ipython>=7.23.1->ipykernel->jupyter->-r C:\\Users\\DELL\\Desktop\\Patient-diagnosis-insight Project\\requirements.txt (line 6)) (5.2.1)\n",
      "Requirement already satisfied: ipython-pygments-lexers in c:\\users\\dell\\appdata\\roaming\\python\\python312\\site-packages (from ipython>=7.23.1->ipykernel->jupyter->-r C:\\Users\\DELL\\Desktop\\Patient-diagnosis-insight Project\\requirements.txt (line 6)) (1.1.1)\n",
      "Requirement already satisfied: jedi>=0.16 in c:\\users\\dell\\appdata\\roaming\\python\\python312\\site-packages (from ipython>=7.23.1->ipykernel->jupyter->-r C:\\Users\\DELL\\Desktop\\Patient-diagnosis-insight Project\\requirements.txt (line 6)) (0.19.2)\n",
      "Requirement already satisfied: prompt_toolkit<3.1.0,>=3.0.41 in c:\\users\\dell\\appdata\\roaming\\python\\python312\\site-packages (from ipython>=7.23.1->ipykernel->jupyter->-r C:\\Users\\DELL\\Desktop\\Patient-diagnosis-insight Project\\requirements.txt (line 6)) (3.0.51)\n",
      "Requirement already satisfied: pygments>=2.4.0 in c:\\users\\dell\\appdata\\roaming\\python\\python312\\site-packages (from ipython>=7.23.1->ipykernel->jupyter->-r C:\\Users\\DELL\\Desktop\\Patient-diagnosis-insight Project\\requirements.txt (line 6)) (2.19.2)\n",
      "Requirement already satisfied: stack_data in c:\\users\\dell\\appdata\\roaming\\python\\python312\\site-packages (from ipython>=7.23.1->ipykernel->jupyter->-r C:\\Users\\DELL\\Desktop\\Patient-diagnosis-insight Project\\requirements.txt (line 6)) (0.6.3)\n",
      "Requirement already satisfied: wcwidth in c:\\users\\dell\\appdata\\roaming\\python\\python312\\site-packages (from prompt_toolkit<3.1.0,>=3.0.41->ipython>=7.23.1->ipykernel->jupyter->-r C:\\Users\\DELL\\Desktop\\Patient-diagnosis-insight Project\\requirements.txt (line 6)) (0.2.13)\n",
      "Requirement already satisfied: parso<0.9.0,>=0.8.4 in c:\\users\\dell\\appdata\\roaming\\python\\python312\\site-packages (from jedi>=0.16->ipython>=7.23.1->ipykernel->jupyter->-r C:\\Users\\DELL\\Desktop\\Patient-diagnosis-insight Project\\requirements.txt (line 6)) (0.8.4)\n",
      "Requirement already satisfied: platformdirs>=2.5 in c:\\users\\dell\\appdata\\roaming\\python\\python312\\site-packages (from jupyter-core!=5.0.*,>=4.12->ipykernel->jupyter->-r C:\\Users\\DELL\\Desktop\\Patient-diagnosis-insight Project\\requirements.txt (line 6)) (4.3.8)\n",
      "Requirement already satisfied: pywin32>=300 in c:\\users\\dell\\appdata\\roaming\\python\\python312\\site-packages (from jupyter-core!=5.0.*,>=4.12->ipykernel->jupyter->-r C:\\Users\\DELL\\Desktop\\Patient-diagnosis-insight Project\\requirements.txt (line 6)) (310)\n",
      "Requirement already satisfied: widgetsnbextension~=4.0.14 in c:\\users\\dell\\desktop\\patient-diagnosis-insight project\\.conda\\lib\\site-packages (from ipywidgets->jupyter->-r C:\\Users\\DELL\\Desktop\\Patient-diagnosis-insight Project\\requirements.txt (line 6)) (4.0.14)\n",
      "Requirement already satisfied: jupyterlab_widgets~=3.0.15 in c:\\users\\dell\\desktop\\patient-diagnosis-insight project\\.conda\\lib\\site-packages (from ipywidgets->jupyter->-r C:\\Users\\DELL\\Desktop\\Patient-diagnosis-insight Project\\requirements.txt (line 6)) (3.0.15)\n",
      "Requirement already satisfied: async-lru>=1.0.0 in c:\\users\\dell\\desktop\\patient-diagnosis-insight project\\.conda\\lib\\site-packages (from jupyterlab->jupyter->-r C:\\Users\\DELL\\Desktop\\Patient-diagnosis-insight Project\\requirements.txt (line 6)) (2.0.5)\n",
      "Requirement already satisfied: httpx<1,>=0.25.0 in c:\\users\\dell\\desktop\\patient-diagnosis-insight project\\.conda\\lib\\site-packages (from jupyterlab->jupyter->-r C:\\Users\\DELL\\Desktop\\Patient-diagnosis-insight Project\\requirements.txt (line 6)) (0.28.1)\n",
      "Requirement already satisfied: jinja2>=3.0.3 in c:\\users\\dell\\desktop\\patient-diagnosis-insight project\\.conda\\lib\\site-packages (from jupyterlab->jupyter->-r C:\\Users\\DELL\\Desktop\\Patient-diagnosis-insight Project\\requirements.txt (line 6)) (3.1.6)\n",
      "Requirement already satisfied: jupyter-lsp>=2.0.0 in c:\\users\\dell\\desktop\\patient-diagnosis-insight project\\.conda\\lib\\site-packages (from jupyterlab->jupyter->-r C:\\Users\\DELL\\Desktop\\Patient-diagnosis-insight Project\\requirements.txt (line 6)) (2.3.0)\n",
      "Requirement already satisfied: jupyter-server<3,>=2.4.0 in c:\\users\\dell\\desktop\\patient-diagnosis-insight project\\.conda\\lib\\site-packages (from jupyterlab->jupyter->-r C:\\Users\\DELL\\Desktop\\Patient-diagnosis-insight Project\\requirements.txt (line 6)) (2.17.0)\n",
      "Requirement already satisfied: jupyterlab-server<3,>=2.27.1 in c:\\users\\dell\\desktop\\patient-diagnosis-insight project\\.conda\\lib\\site-packages (from jupyterlab->jupyter->-r C:\\Users\\DELL\\Desktop\\Patient-diagnosis-insight Project\\requirements.txt (line 6)) (2.27.3)\n",
      "Requirement already satisfied: notebook-shim>=0.2 in c:\\users\\dell\\desktop\\patient-diagnosis-insight project\\.conda\\lib\\site-packages (from jupyterlab->jupyter->-r C:\\Users\\DELL\\Desktop\\Patient-diagnosis-insight Project\\requirements.txt (line 6)) (0.2.4)\n",
      "Requirement already satisfied: setuptools>=41.1.0 in c:\\users\\dell\\desktop\\patient-diagnosis-insight project\\.conda\\lib\\site-packages (from jupyterlab->jupyter->-r C:\\Users\\DELL\\Desktop\\Patient-diagnosis-insight Project\\requirements.txt (line 6)) (80.9.0)\n",
      "Requirement already satisfied: anyio in c:\\users\\dell\\desktop\\patient-diagnosis-insight project\\.conda\\lib\\site-packages (from httpx<1,>=0.25.0->jupyterlab->jupyter->-r C:\\Users\\DELL\\Desktop\\Patient-diagnosis-insight Project\\requirements.txt (line 6)) (4.11.0)\n",
      "Requirement already satisfied: certifi in c:\\users\\dell\\desktop\\patient-diagnosis-insight project\\.conda\\lib\\site-packages (from httpx<1,>=0.25.0->jupyterlab->jupyter->-r C:\\Users\\DELL\\Desktop\\Patient-diagnosis-insight Project\\requirements.txt (line 6)) (2025.10.5)\n",
      "Requirement already satisfied: httpcore==1.* in c:\\users\\dell\\desktop\\patient-diagnosis-insight project\\.conda\\lib\\site-packages (from httpx<1,>=0.25.0->jupyterlab->jupyter->-r C:\\Users\\DELL\\Desktop\\Patient-diagnosis-insight Project\\requirements.txt (line 6)) (1.0.9)\n",
      "Requirement already satisfied: idna in c:\\users\\dell\\desktop\\patient-diagnosis-insight project\\.conda\\lib\\site-packages (from httpx<1,>=0.25.0->jupyterlab->jupyter->-r C:\\Users\\DELL\\Desktop\\Patient-diagnosis-insight Project\\requirements.txt (line 6)) (3.11)\n",
      "Requirement already satisfied: h11>=0.16 in c:\\users\\dell\\desktop\\patient-diagnosis-insight project\\.conda\\lib\\site-packages (from httpcore==1.*->httpx<1,>=0.25.0->jupyterlab->jupyter->-r C:\\Users\\DELL\\Desktop\\Patient-diagnosis-insight Project\\requirements.txt (line 6)) (0.16.0)\n",
      "Requirement already satisfied: argon2-cffi>=21.1 in c:\\users\\dell\\desktop\\patient-diagnosis-insight project\\.conda\\lib\\site-packages (from jupyter-server<3,>=2.4.0->jupyterlab->jupyter->-r C:\\Users\\DELL\\Desktop\\Patient-diagnosis-insight Project\\requirements.txt (line 6)) (25.1.0)\n",
      "Requirement already satisfied: jupyter-events>=0.11.0 in c:\\users\\dell\\desktop\\patient-diagnosis-insight project\\.conda\\lib\\site-packages (from jupyter-server<3,>=2.4.0->jupyterlab->jupyter->-r C:\\Users\\DELL\\Desktop\\Patient-diagnosis-insight Project\\requirements.txt (line 6)) (0.12.0)\n",
      "Requirement already satisfied: jupyter-server-terminals>=0.4.4 in c:\\users\\dell\\desktop\\patient-diagnosis-insight project\\.conda\\lib\\site-packages (from jupyter-server<3,>=2.4.0->jupyterlab->jupyter->-r C:\\Users\\DELL\\Desktop\\Patient-diagnosis-insight Project\\requirements.txt (line 6)) (0.5.3)\n",
      "Requirement already satisfied: nbformat>=5.3.0 in c:\\users\\dell\\desktop\\patient-diagnosis-insight project\\.conda\\lib\\site-packages (from jupyter-server<3,>=2.4.0->jupyterlab->jupyter->-r C:\\Users\\DELL\\Desktop\\Patient-diagnosis-insight Project\\requirements.txt (line 6)) (5.10.4)\n",
      "Requirement already satisfied: prometheus-client>=0.9 in c:\\users\\dell\\desktop\\patient-diagnosis-insight project\\.conda\\lib\\site-packages (from jupyter-server<3,>=2.4.0->jupyterlab->jupyter->-r C:\\Users\\DELL\\Desktop\\Patient-diagnosis-insight Project\\requirements.txt (line 6)) (0.23.1)\n",
      "Requirement already satisfied: pywinpty>=2.0.1 in c:\\users\\dell\\desktop\\patient-diagnosis-insight project\\.conda\\lib\\site-packages (from jupyter-server<3,>=2.4.0->jupyterlab->jupyter->-r C:\\Users\\DELL\\Desktop\\Patient-diagnosis-insight Project\\requirements.txt (line 6)) (3.0.2)\n",
      "Requirement already satisfied: send2trash>=1.8.2 in c:\\users\\dell\\desktop\\patient-diagnosis-insight project\\.conda\\lib\\site-packages (from jupyter-server<3,>=2.4.0->jupyterlab->jupyter->-r C:\\Users\\DELL\\Desktop\\Patient-diagnosis-insight Project\\requirements.txt (line 6)) (1.8.3)\n",
      "Requirement already satisfied: terminado>=0.8.3 in c:\\users\\dell\\desktop\\patient-diagnosis-insight project\\.conda\\lib\\site-packages (from jupyter-server<3,>=2.4.0->jupyterlab->jupyter->-r C:\\Users\\DELL\\Desktop\\Patient-diagnosis-insight Project\\requirements.txt (line 6)) (0.18.1)\n",
      "Requirement already satisfied: websocket-client>=1.7 in c:\\users\\dell\\desktop\\patient-diagnosis-insight project\\.conda\\lib\\site-packages (from jupyter-server<3,>=2.4.0->jupyterlab->jupyter->-r C:\\Users\\DELL\\Desktop\\Patient-diagnosis-insight Project\\requirements.txt (line 6)) (1.9.0)\n",
      "Requirement already satisfied: babel>=2.10 in c:\\users\\dell\\desktop\\patient-diagnosis-insight project\\.conda\\lib\\site-packages (from jupyterlab-server<3,>=2.27.1->jupyterlab->jupyter->-r C:\\Users\\DELL\\Desktop\\Patient-diagnosis-insight Project\\requirements.txt (line 6)) (2.17.0)\n",
      "Requirement already satisfied: json5>=0.9.0 in c:\\users\\dell\\desktop\\patient-diagnosis-insight project\\.conda\\lib\\site-packages (from jupyterlab-server<3,>=2.27.1->jupyterlab->jupyter->-r C:\\Users\\DELL\\Desktop\\Patient-diagnosis-insight Project\\requirements.txt (line 6)) (0.12.1)\n",
      "Requirement already satisfied: jsonschema>=4.18.0 in c:\\users\\dell\\desktop\\patient-diagnosis-insight project\\.conda\\lib\\site-packages (from jupyterlab-server<3,>=2.27.1->jupyterlab->jupyter->-r C:\\Users\\DELL\\Desktop\\Patient-diagnosis-insight Project\\requirements.txt (line 6)) (4.25.1)\n",
      "Requirement already satisfied: requests>=2.31 in c:\\users\\dell\\desktop\\patient-diagnosis-insight project\\.conda\\lib\\site-packages (from jupyterlab-server<3,>=2.27.1->jupyterlab->jupyter->-r C:\\Users\\DELL\\Desktop\\Patient-diagnosis-insight Project\\requirements.txt (line 6)) (2.32.5)\n",
      "Requirement already satisfied: sniffio>=1.1 in c:\\users\\dell\\desktop\\patient-diagnosis-insight project\\.conda\\lib\\site-packages (from anyio->httpx<1,>=0.25.0->jupyterlab->jupyter->-r C:\\Users\\DELL\\Desktop\\Patient-diagnosis-insight Project\\requirements.txt (line 6)) (1.3.1)\n",
      "Requirement already satisfied: typing_extensions>=4.5 in c:\\users\\dell\\desktop\\patient-diagnosis-insight project\\.conda\\lib\\site-packages (from anyio->httpx<1,>=0.25.0->jupyterlab->jupyter->-r C:\\Users\\DELL\\Desktop\\Patient-diagnosis-insight Project\\requirements.txt (line 6)) (4.15.0)\n",
      "Requirement already satisfied: argon2-cffi-bindings in c:\\users\\dell\\desktop\\patient-diagnosis-insight project\\.conda\\lib\\site-packages (from argon2-cffi>=21.1->jupyter-server<3,>=2.4.0->jupyterlab->jupyter->-r C:\\Users\\DELL\\Desktop\\Patient-diagnosis-insight Project\\requirements.txt (line 6)) (25.1.0)\n",
      "Requirement already satisfied: MarkupSafe>=2.0 in c:\\users\\dell\\desktop\\patient-diagnosis-insight project\\.conda\\lib\\site-packages (from jinja2>=3.0.3->jupyterlab->jupyter->-r C:\\Users\\DELL\\Desktop\\Patient-diagnosis-insight Project\\requirements.txt (line 6)) (3.0.3)\n",
      "Requirement already satisfied: attrs>=22.2.0 in c:\\users\\dell\\desktop\\patient-diagnosis-insight project\\.conda\\lib\\site-packages (from jsonschema>=4.18.0->jupyterlab-server<3,>=2.27.1->jupyterlab->jupyter->-r C:\\Users\\DELL\\Desktop\\Patient-diagnosis-insight Project\\requirements.txt (line 6)) (25.4.0)\n",
      "Requirement already satisfied: jsonschema-specifications>=2023.03.6 in c:\\users\\dell\\desktop\\patient-diagnosis-insight project\\.conda\\lib\\site-packages (from jsonschema>=4.18.0->jupyterlab-server<3,>=2.27.1->jupyterlab->jupyter->-r C:\\Users\\DELL\\Desktop\\Patient-diagnosis-insight Project\\requirements.txt (line 6)) (2025.9.1)\n",
      "Requirement already satisfied: referencing>=0.28.4 in c:\\users\\dell\\desktop\\patient-diagnosis-insight project\\.conda\\lib\\site-packages (from jsonschema>=4.18.0->jupyterlab-server<3,>=2.27.1->jupyterlab->jupyter->-r C:\\Users\\DELL\\Desktop\\Patient-diagnosis-insight Project\\requirements.txt (line 6)) (0.37.0)\n",
      "Requirement already satisfied: rpds-py>=0.7.1 in c:\\users\\dell\\desktop\\patient-diagnosis-insight project\\.conda\\lib\\site-packages (from jsonschema>=4.18.0->jupyterlab-server<3,>=2.27.1->jupyterlab->jupyter->-r C:\\Users\\DELL\\Desktop\\Patient-diagnosis-insight Project\\requirements.txt (line 6)) (0.27.1)\n",
      "Requirement already satisfied: python-json-logger>=2.0.4 in c:\\users\\dell\\desktop\\patient-diagnosis-insight project\\.conda\\lib\\site-packages (from jupyter-events>=0.11.0->jupyter-server<3,>=2.4.0->jupyterlab->jupyter->-r C:\\Users\\DELL\\Desktop\\Patient-diagnosis-insight Project\\requirements.txt (line 6)) (4.0.0)\n",
      "Requirement already satisfied: pyyaml>=5.3 in c:\\users\\dell\\desktop\\patient-diagnosis-insight project\\.conda\\lib\\site-packages (from jupyter-events>=0.11.0->jupyter-server<3,>=2.4.0->jupyterlab->jupyter->-r C:\\Users\\DELL\\Desktop\\Patient-diagnosis-insight Project\\requirements.txt (line 6)) (6.0.3)\n",
      "Requirement already satisfied: rfc3339-validator in c:\\users\\dell\\desktop\\patient-diagnosis-insight project\\.conda\\lib\\site-packages (from jupyter-events>=0.11.0->jupyter-server<3,>=2.4.0->jupyterlab->jupyter->-r C:\\Users\\DELL\\Desktop\\Patient-diagnosis-insight Project\\requirements.txt (line 6)) (0.1.4)\n",
      "Requirement already satisfied: rfc3986-validator>=0.1.1 in c:\\users\\dell\\desktop\\patient-diagnosis-insight project\\.conda\\lib\\site-packages (from jupyter-events>=0.11.0->jupyter-server<3,>=2.4.0->jupyterlab->jupyter->-r C:\\Users\\DELL\\Desktop\\Patient-diagnosis-insight Project\\requirements.txt (line 6)) (0.1.1)\n",
      "Requirement already satisfied: fqdn in c:\\users\\dell\\desktop\\patient-diagnosis-insight project\\.conda\\lib\\site-packages (from jsonschema[format-nongpl]>=4.18.0->jupyter-events>=0.11.0->jupyter-server<3,>=2.4.0->jupyterlab->jupyter->-r C:\\Users\\DELL\\Desktop\\Patient-diagnosis-insight Project\\requirements.txt (line 6)) (1.5.1)\n",
      "Requirement already satisfied: isoduration in c:\\users\\dell\\desktop\\patient-diagnosis-insight project\\.conda\\lib\\site-packages (from jsonschema[format-nongpl]>=4.18.0->jupyter-events>=0.11.0->jupyter-server<3,>=2.4.0->jupyterlab->jupyter->-r C:\\Users\\DELL\\Desktop\\Patient-diagnosis-insight Project\\requirements.txt (line 6)) (20.11.0)\n",
      "Requirement already satisfied: jsonpointer>1.13 in c:\\users\\dell\\desktop\\patient-diagnosis-insight project\\.conda\\lib\\site-packages (from jsonschema[format-nongpl]>=4.18.0->jupyter-events>=0.11.0->jupyter-server<3,>=2.4.0->jupyterlab->jupyter->-r C:\\Users\\DELL\\Desktop\\Patient-diagnosis-insight Project\\requirements.txt (line 6)) (3.0.0)\n",
      "Requirement already satisfied: rfc3987-syntax>=1.1.0 in c:\\users\\dell\\desktop\\patient-diagnosis-insight project\\.conda\\lib\\site-packages (from jsonschema[format-nongpl]>=4.18.0->jupyter-events>=0.11.0->jupyter-server<3,>=2.4.0->jupyterlab->jupyter->-r C:\\Users\\DELL\\Desktop\\Patient-diagnosis-insight Project\\requirements.txt (line 6)) (1.1.0)\n",
      "Requirement already satisfied: uri-template in c:\\users\\dell\\desktop\\patient-diagnosis-insight project\\.conda\\lib\\site-packages (from jsonschema[format-nongpl]>=4.18.0->jupyter-events>=0.11.0->jupyter-server<3,>=2.4.0->jupyterlab->jupyter->-r C:\\Users\\DELL\\Desktop\\Patient-diagnosis-insight Project\\requirements.txt (line 6)) (1.3.0)\n",
      "Requirement already satisfied: webcolors>=24.6.0 in c:\\users\\dell\\desktop\\patient-diagnosis-insight project\\.conda\\lib\\site-packages (from jsonschema[format-nongpl]>=4.18.0->jupyter-events>=0.11.0->jupyter-server<3,>=2.4.0->jupyterlab->jupyter->-r C:\\Users\\DELL\\Desktop\\Patient-diagnosis-insight Project\\requirements.txt (line 6)) (24.11.1)\n",
      "Requirement already satisfied: beautifulsoup4 in c:\\users\\dell\\desktop\\patient-diagnosis-insight project\\.conda\\lib\\site-packages (from nbconvert->jupyter->-r C:\\Users\\DELL\\Desktop\\Patient-diagnosis-insight Project\\requirements.txt (line 6)) (4.14.2)\n",
      "Requirement already satisfied: bleach!=5.0.0 in c:\\users\\dell\\desktop\\patient-diagnosis-insight project\\.conda\\lib\\site-packages (from bleach[css]!=5.0.0->nbconvert->jupyter->-r C:\\Users\\DELL\\Desktop\\Patient-diagnosis-insight Project\\requirements.txt (line 6)) (6.2.0)\n",
      "Requirement already satisfied: defusedxml in c:\\users\\dell\\desktop\\patient-diagnosis-insight project\\.conda\\lib\\site-packages (from nbconvert->jupyter->-r C:\\Users\\DELL\\Desktop\\Patient-diagnosis-insight Project\\requirements.txt (line 6)) (0.7.1)\n",
      "Requirement already satisfied: jupyterlab-pygments in c:\\users\\dell\\desktop\\patient-diagnosis-insight project\\.conda\\lib\\site-packages (from nbconvert->jupyter->-r C:\\Users\\DELL\\Desktop\\Patient-diagnosis-insight Project\\requirements.txt (line 6)) (0.3.0)\n",
      "Requirement already satisfied: mistune<4,>=2.0.3 in c:\\users\\dell\\desktop\\patient-diagnosis-insight project\\.conda\\lib\\site-packages (from nbconvert->jupyter->-r C:\\Users\\DELL\\Desktop\\Patient-diagnosis-insight Project\\requirements.txt (line 6)) (3.1.4)\n",
      "Requirement already satisfied: nbclient>=0.5.0 in c:\\users\\dell\\desktop\\patient-diagnosis-insight project\\.conda\\lib\\site-packages (from nbconvert->jupyter->-r C:\\Users\\DELL\\Desktop\\Patient-diagnosis-insight Project\\requirements.txt (line 6)) (0.10.2)\n",
      "Requirement already satisfied: pandocfilters>=1.4.1 in c:\\users\\dell\\desktop\\patient-diagnosis-insight project\\.conda\\lib\\site-packages (from nbconvert->jupyter->-r C:\\Users\\DELL\\Desktop\\Patient-diagnosis-insight Project\\requirements.txt (line 6)) (1.5.1)\n",
      "Requirement already satisfied: webencodings in c:\\users\\dell\\desktop\\patient-diagnosis-insight project\\.conda\\lib\\site-packages (from bleach!=5.0.0->bleach[css]!=5.0.0->nbconvert->jupyter->-r C:\\Users\\DELL\\Desktop\\Patient-diagnosis-insight Project\\requirements.txt (line 6)) (0.5.1)\n",
      "Requirement already satisfied: tinycss2<1.5,>=1.1.0 in c:\\users\\dell\\desktop\\patient-diagnosis-insight project\\.conda\\lib\\site-packages (from bleach[css]!=5.0.0->nbconvert->jupyter->-r C:\\Users\\DELL\\Desktop\\Patient-diagnosis-insight Project\\requirements.txt (line 6)) (1.4.0)\n",
      "Requirement already satisfied: fastjsonschema>=2.15 in c:\\users\\dell\\desktop\\patient-diagnosis-insight project\\.conda\\lib\\site-packages (from nbformat>=5.3.0->jupyter-server<3,>=2.4.0->jupyterlab->jupyter->-r C:\\Users\\DELL\\Desktop\\Patient-diagnosis-insight Project\\requirements.txt (line 6)) (2.21.2)\n",
      "Requirement already satisfied: charset_normalizer<4,>=2 in c:\\users\\dell\\desktop\\patient-diagnosis-insight project\\.conda\\lib\\site-packages (from requests>=2.31->jupyterlab-server<3,>=2.27.1->jupyterlab->jupyter->-r C:\\Users\\DELL\\Desktop\\Patient-diagnosis-insight Project\\requirements.txt (line 6)) (3.4.4)\n",
      "Requirement already satisfied: urllib3<3,>=1.21.1 in c:\\users\\dell\\desktop\\patient-diagnosis-insight project\\.conda\\lib\\site-packages (from requests>=2.31->jupyterlab-server<3,>=2.27.1->jupyterlab->jupyter->-r C:\\Users\\DELL\\Desktop\\Patient-diagnosis-insight Project\\requirements.txt (line 6)) (2.5.0)\n",
      "Requirement already satisfied: lark>=1.2.2 in c:\\users\\dell\\desktop\\patient-diagnosis-insight project\\.conda\\lib\\site-packages (from rfc3987-syntax>=1.1.0->jsonschema[format-nongpl]>=4.18.0->jupyter-events>=0.11.0->jupyter-server<3,>=2.4.0->jupyterlab->jupyter->-r C:\\Users\\DELL\\Desktop\\Patient-diagnosis-insight Project\\requirements.txt (line 6)) (1.3.0)\n",
      "Requirement already satisfied: cffi>=1.0.1 in c:\\users\\dell\\desktop\\patient-diagnosis-insight project\\.conda\\lib\\site-packages (from argon2-cffi-bindings->argon2-cffi>=21.1->jupyter-server<3,>=2.4.0->jupyterlab->jupyter->-r C:\\Users\\DELL\\Desktop\\Patient-diagnosis-insight Project\\requirements.txt (line 6)) (2.0.0)\n",
      "Requirement already satisfied: pycparser in c:\\users\\dell\\desktop\\patient-diagnosis-insight project\\.conda\\lib\\site-packages (from cffi>=1.0.1->argon2-cffi-bindings->argon2-cffi>=21.1->jupyter-server<3,>=2.4.0->jupyterlab->jupyter->-r C:\\Users\\DELL\\Desktop\\Patient-diagnosis-insight Project\\requirements.txt (line 6)) (2.23)\n",
      "Requirement already satisfied: soupsieve>1.2 in c:\\users\\dell\\desktop\\patient-diagnosis-insight project\\.conda\\lib\\site-packages (from beautifulsoup4->nbconvert->jupyter->-r C:\\Users\\DELL\\Desktop\\Patient-diagnosis-insight Project\\requirements.txt (line 6)) (2.8)\n",
      "Requirement already satisfied: arrow>=0.15.0 in c:\\users\\dell\\desktop\\patient-diagnosis-insight project\\.conda\\lib\\site-packages (from isoduration->jsonschema[format-nongpl]>=4.18.0->jupyter-events>=0.11.0->jupyter-server<3,>=2.4.0->jupyterlab->jupyter->-r C:\\Users\\DELL\\Desktop\\Patient-diagnosis-insight Project\\requirements.txt (line 6)) (1.4.0)\n",
      "Requirement already satisfied: executing>=1.2.0 in c:\\users\\dell\\appdata\\roaming\\python\\python312\\site-packages (from stack_data->ipython>=7.23.1->ipykernel->jupyter->-r C:\\Users\\DELL\\Desktop\\Patient-diagnosis-insight Project\\requirements.txt (line 6)) (2.2.0)\n",
      "Requirement already satisfied: asttokens>=2.1.0 in c:\\users\\dell\\appdata\\roaming\\python\\python312\\site-packages (from stack_data->ipython>=7.23.1->ipykernel->jupyter->-r C:\\Users\\DELL\\Desktop\\Patient-diagnosis-insight Project\\requirements.txt (line 6)) (3.0.0)\n",
      "Requirement already satisfied: pure-eval in c:\\users\\dell\\appdata\\roaming\\python\\python312\\site-packages (from stack_data->ipython>=7.23.1->ipykernel->jupyter->-r C:\\Users\\DELL\\Desktop\\Patient-diagnosis-insight Project\\requirements.txt (line 6)) (0.2.3)\n",
      "Note: you may need to restart the kernel to use updated packages.\n"
     ]
    }
   ],
   "source": [
    "%pip install -r \"C:\\Users\\DELL\\Desktop\\Patient-diagnosis-insight Project\\requirements.txt\""
   ]
  },
  {
   "cell_type": "code",
   "execution_count": 4,
   "id": "016a6856",
   "metadata": {},
   "outputs": [],
   "source": [
    "import pandas as pd\n",
    "import numpy as np\n",
    "import matplotlib.pyplot as plt\n",
    "import seaborn as sns"
   ]
  },
  {
   "cell_type": "code",
   "execution_count": 5,
   "id": "8358dbc8",
   "metadata": {},
   "outputs": [],
   "source": [
    "df = pd.read_csv(r\"C:\\Users\\DELL\\Desktop\\Patient-diagnosis-insight Project\\data\\raw\\healthcare_dataset.csv\")"
   ]
  },
  {
   "cell_type": "code",
   "execution_count": 6,
   "id": "5833e7e3",
   "metadata": {},
   "outputs": [
    {
     "data": {
      "application/vnd.microsoft.datawrangler.viewer.v0+json": {
       "columns": [
        {
         "name": "index",
         "rawType": "int64",
         "type": "integer"
        },
        {
         "name": "Name",
         "rawType": "object",
         "type": "string"
        },
        {
         "name": "Age",
         "rawType": "int64",
         "type": "integer"
        },
        {
         "name": "Gender",
         "rawType": "object",
         "type": "string"
        },
        {
         "name": "Blood Type",
         "rawType": "object",
         "type": "string"
        },
        {
         "name": "Medical Condition",
         "rawType": "object",
         "type": "string"
        },
        {
         "name": "Date of Admission",
         "rawType": "object",
         "type": "string"
        },
        {
         "name": "Doctor",
         "rawType": "object",
         "type": "string"
        },
        {
         "name": "Hospital",
         "rawType": "object",
         "type": "string"
        },
        {
         "name": "Insurance Provider",
         "rawType": "object",
         "type": "string"
        },
        {
         "name": "Billing Amount",
         "rawType": "float64",
         "type": "float"
        },
        {
         "name": "Room Number",
         "rawType": "int64",
         "type": "integer"
        },
        {
         "name": "Admission Type",
         "rawType": "object",
         "type": "string"
        },
        {
         "name": "Discharge Date",
         "rawType": "object",
         "type": "string"
        },
        {
         "name": "Medication",
         "rawType": "object",
         "type": "string"
        },
        {
         "name": "Test Results",
         "rawType": "object",
         "type": "string"
        }
       ],
       "ref": "80106be8-5dde-4a11-b386-1926cc23025f",
       "rows": [
        [
         "0",
         "Bobby JacksOn",
         "30",
         "Male",
         "B-",
         "Cancer",
         "2024-01-31",
         "Matthew Smith",
         "Sons and Miller",
         "Blue Cross",
         "18856.281305978155",
         "328",
         "Urgent",
         "2024-02-02",
         "Paracetamol",
         "Normal"
        ],
        [
         "1",
         "LesLie TErRy",
         "62",
         "Male",
         "A+",
         "Obesity",
         "2019-08-20",
         "Samantha Davies",
         "Kim Inc",
         "Medicare",
         "33643.327286577885",
         "265",
         "Emergency",
         "2019-08-26",
         "Ibuprofen",
         "Inconclusive"
        ],
        [
         "2",
         "DaNnY sMitH",
         "76",
         "Female",
         "A-",
         "Obesity",
         "2022-09-22",
         "Tiffany Mitchell",
         "Cook PLC",
         "Aetna",
         "27955.096078842456",
         "205",
         "Emergency",
         "2022-10-07",
         "Aspirin",
         "Normal"
        ],
        [
         "3",
         "andrEw waTtS",
         "28",
         "Female",
         "O+",
         "Diabetes",
         "2020-11-18",
         "Kevin Wells",
         "Hernandez Rogers and Vang,",
         "Medicare",
         "37909.78240987528",
         "450",
         "Elective",
         "2020-12-18",
         "Ibuprofen",
         "Abnormal"
        ],
        [
         "4",
         "adrIENNE bEll",
         "43",
         "Female",
         "AB+",
         "Cancer",
         "2022-09-19",
         "Kathleen Hanna",
         "White-White",
         "Aetna",
         "14238.317813937623",
         "458",
         "Urgent",
         "2022-10-09",
         "Penicillin",
         "Abnormal"
        ]
       ],
       "shape": {
        "columns": 15,
        "rows": 5
       }
      },
      "text/html": [
       "<div>\n",
       "<style scoped>\n",
       "    .dataframe tbody tr th:only-of-type {\n",
       "        vertical-align: middle;\n",
       "    }\n",
       "\n",
       "    .dataframe tbody tr th {\n",
       "        vertical-align: top;\n",
       "    }\n",
       "\n",
       "    .dataframe thead th {\n",
       "        text-align: right;\n",
       "    }\n",
       "</style>\n",
       "<table border=\"1\" class=\"dataframe\">\n",
       "  <thead>\n",
       "    <tr style=\"text-align: right;\">\n",
       "      <th></th>\n",
       "      <th>Name</th>\n",
       "      <th>Age</th>\n",
       "      <th>Gender</th>\n",
       "      <th>Blood Type</th>\n",
       "      <th>Medical Condition</th>\n",
       "      <th>Date of Admission</th>\n",
       "      <th>Doctor</th>\n",
       "      <th>Hospital</th>\n",
       "      <th>Insurance Provider</th>\n",
       "      <th>Billing Amount</th>\n",
       "      <th>Room Number</th>\n",
       "      <th>Admission Type</th>\n",
       "      <th>Discharge Date</th>\n",
       "      <th>Medication</th>\n",
       "      <th>Test Results</th>\n",
       "    </tr>\n",
       "  </thead>\n",
       "  <tbody>\n",
       "    <tr>\n",
       "      <th>0</th>\n",
       "      <td>Bobby JacksOn</td>\n",
       "      <td>30</td>\n",
       "      <td>Male</td>\n",
       "      <td>B-</td>\n",
       "      <td>Cancer</td>\n",
       "      <td>2024-01-31</td>\n",
       "      <td>Matthew Smith</td>\n",
       "      <td>Sons and Miller</td>\n",
       "      <td>Blue Cross</td>\n",
       "      <td>18856.281306</td>\n",
       "      <td>328</td>\n",
       "      <td>Urgent</td>\n",
       "      <td>2024-02-02</td>\n",
       "      <td>Paracetamol</td>\n",
       "      <td>Normal</td>\n",
       "    </tr>\n",
       "    <tr>\n",
       "      <th>1</th>\n",
       "      <td>LesLie TErRy</td>\n",
       "      <td>62</td>\n",
       "      <td>Male</td>\n",
       "      <td>A+</td>\n",
       "      <td>Obesity</td>\n",
       "      <td>2019-08-20</td>\n",
       "      <td>Samantha Davies</td>\n",
       "      <td>Kim Inc</td>\n",
       "      <td>Medicare</td>\n",
       "      <td>33643.327287</td>\n",
       "      <td>265</td>\n",
       "      <td>Emergency</td>\n",
       "      <td>2019-08-26</td>\n",
       "      <td>Ibuprofen</td>\n",
       "      <td>Inconclusive</td>\n",
       "    </tr>\n",
       "    <tr>\n",
       "      <th>2</th>\n",
       "      <td>DaNnY sMitH</td>\n",
       "      <td>76</td>\n",
       "      <td>Female</td>\n",
       "      <td>A-</td>\n",
       "      <td>Obesity</td>\n",
       "      <td>2022-09-22</td>\n",
       "      <td>Tiffany Mitchell</td>\n",
       "      <td>Cook PLC</td>\n",
       "      <td>Aetna</td>\n",
       "      <td>27955.096079</td>\n",
       "      <td>205</td>\n",
       "      <td>Emergency</td>\n",
       "      <td>2022-10-07</td>\n",
       "      <td>Aspirin</td>\n",
       "      <td>Normal</td>\n",
       "    </tr>\n",
       "    <tr>\n",
       "      <th>3</th>\n",
       "      <td>andrEw waTtS</td>\n",
       "      <td>28</td>\n",
       "      <td>Female</td>\n",
       "      <td>O+</td>\n",
       "      <td>Diabetes</td>\n",
       "      <td>2020-11-18</td>\n",
       "      <td>Kevin Wells</td>\n",
       "      <td>Hernandez Rogers and Vang,</td>\n",
       "      <td>Medicare</td>\n",
       "      <td>37909.782410</td>\n",
       "      <td>450</td>\n",
       "      <td>Elective</td>\n",
       "      <td>2020-12-18</td>\n",
       "      <td>Ibuprofen</td>\n",
       "      <td>Abnormal</td>\n",
       "    </tr>\n",
       "    <tr>\n",
       "      <th>4</th>\n",
       "      <td>adrIENNE bEll</td>\n",
       "      <td>43</td>\n",
       "      <td>Female</td>\n",
       "      <td>AB+</td>\n",
       "      <td>Cancer</td>\n",
       "      <td>2022-09-19</td>\n",
       "      <td>Kathleen Hanna</td>\n",
       "      <td>White-White</td>\n",
       "      <td>Aetna</td>\n",
       "      <td>14238.317814</td>\n",
       "      <td>458</td>\n",
       "      <td>Urgent</td>\n",
       "      <td>2022-10-09</td>\n",
       "      <td>Penicillin</td>\n",
       "      <td>Abnormal</td>\n",
       "    </tr>\n",
       "  </tbody>\n",
       "</table>\n",
       "</div>"
      ],
      "text/plain": [
       "            Name  Age  Gender Blood Type Medical Condition Date of Admission  \\\n",
       "0  Bobby JacksOn   30    Male         B-            Cancer        2024-01-31   \n",
       "1   LesLie TErRy   62    Male         A+           Obesity        2019-08-20   \n",
       "2    DaNnY sMitH   76  Female         A-           Obesity        2022-09-22   \n",
       "3   andrEw waTtS   28  Female         O+          Diabetes        2020-11-18   \n",
       "4  adrIENNE bEll   43  Female        AB+            Cancer        2022-09-19   \n",
       "\n",
       "             Doctor                    Hospital Insurance Provider  \\\n",
       "0     Matthew Smith             Sons and Miller         Blue Cross   \n",
       "1   Samantha Davies                     Kim Inc           Medicare   \n",
       "2  Tiffany Mitchell                    Cook PLC              Aetna   \n",
       "3       Kevin Wells  Hernandez Rogers and Vang,           Medicare   \n",
       "4    Kathleen Hanna                 White-White              Aetna   \n",
       "\n",
       "   Billing Amount  Room Number Admission Type Discharge Date   Medication  \\\n",
       "0    18856.281306          328         Urgent     2024-02-02  Paracetamol   \n",
       "1    33643.327287          265      Emergency     2019-08-26    Ibuprofen   \n",
       "2    27955.096079          205      Emergency     2022-10-07      Aspirin   \n",
       "3    37909.782410          450       Elective     2020-12-18    Ibuprofen   \n",
       "4    14238.317814          458         Urgent     2022-10-09   Penicillin   \n",
       "\n",
       "   Test Results  \n",
       "0        Normal  \n",
       "1  Inconclusive  \n",
       "2        Normal  \n",
       "3      Abnormal  \n",
       "4      Abnormal  "
      ]
     },
     "execution_count": 6,
     "metadata": {},
     "output_type": "execute_result"
    }
   ],
   "source": [
    "df.head()"
   ]
  },
  {
   "cell_type": "code",
   "execution_count": 7,
   "id": "0928ae57",
   "metadata": {},
   "outputs": [
    {
     "data": {
      "application/vnd.microsoft.datawrangler.viewer.v0+json": {
       "columns": [
        {
         "name": "index",
         "rawType": "int64",
         "type": "integer"
        },
        {
         "name": "Name",
         "rawType": "object",
         "type": "string"
        },
        {
         "name": "Age",
         "rawType": "int64",
         "type": "integer"
        },
        {
         "name": "Gender",
         "rawType": "object",
         "type": "string"
        },
        {
         "name": "Blood Type",
         "rawType": "object",
         "type": "string"
        },
        {
         "name": "Medical Condition",
         "rawType": "object",
         "type": "string"
        },
        {
         "name": "Date of Admission",
         "rawType": "object",
         "type": "string"
        },
        {
         "name": "Doctor",
         "rawType": "object",
         "type": "string"
        },
        {
         "name": "Hospital",
         "rawType": "object",
         "type": "string"
        },
        {
         "name": "Insurance Provider",
         "rawType": "object",
         "type": "string"
        },
        {
         "name": "Billing Amount",
         "rawType": "float64",
         "type": "float"
        },
        {
         "name": "Room Number",
         "rawType": "int64",
         "type": "integer"
        },
        {
         "name": "Admission Type",
         "rawType": "object",
         "type": "string"
        },
        {
         "name": "Discharge Date",
         "rawType": "object",
         "type": "string"
        },
        {
         "name": "Medication",
         "rawType": "object",
         "type": "string"
        },
        {
         "name": "Test Results",
         "rawType": "object",
         "type": "string"
        }
       ],
       "ref": "395c508e-633f-44ba-9a6d-54e32395ea06",
       "rows": [
        [
         "55495",
         "eLIZABeTH jaCkSOn",
         "42",
         "Female",
         "O+",
         "Asthma",
         "2020-08-16",
         "Joshua Jarvis",
         "Jones-Thompson",
         "Blue Cross",
         "2650.7149523295766",
         "417",
         "Elective",
         "2020-09-15",
         "Penicillin",
         "Abnormal"
        ],
        [
         "55496",
         "KYle pEREz",
         "61",
         "Female",
         "AB-",
         "Obesity",
         "2020-01-23",
         "Taylor Sullivan",
         "Tucker-Moyer",
         "Cigna",
         "31457.79730690524",
         "316",
         "Elective",
         "2020-02-01",
         "Aspirin",
         "Normal"
        ],
        [
         "55497",
         "HEATher WaNG",
         "38",
         "Female",
         "B+",
         "Hypertension",
         "2020-07-13",
         "Joe Jacobs DVM",
         "and Mahoney Johnson Vasquez,",
         "UnitedHealthcare",
         "27620.764717427424",
         "347",
         "Urgent",
         "2020-08-10",
         "Ibuprofen",
         "Abnormal"
        ],
        [
         "55498",
         "JENniFER JOneS",
         "43",
         "Male",
         "O-",
         "Arthritis",
         "2019-05-25",
         "Kimberly Curry",
         "Jackson Todd and Castro,",
         "Medicare",
         "32451.09235848868",
         "321",
         "Elective",
         "2019-05-31",
         "Ibuprofen",
         "Abnormal"
        ],
        [
         "55499",
         "jAMES GARCiA",
         "53",
         "Female",
         "O+",
         "Arthritis",
         "2024-04-02",
         "Dennis Warren",
         "Henry Sons and",
         "Aetna",
         "4010.134171643987",
         "448",
         "Urgent",
         "2024-04-29",
         "Ibuprofen",
         "Abnormal"
        ]
       ],
       "shape": {
        "columns": 15,
        "rows": 5
       }
      },
      "text/html": [
       "<div>\n",
       "<style scoped>\n",
       "    .dataframe tbody tr th:only-of-type {\n",
       "        vertical-align: middle;\n",
       "    }\n",
       "\n",
       "    .dataframe tbody tr th {\n",
       "        vertical-align: top;\n",
       "    }\n",
       "\n",
       "    .dataframe thead th {\n",
       "        text-align: right;\n",
       "    }\n",
       "</style>\n",
       "<table border=\"1\" class=\"dataframe\">\n",
       "  <thead>\n",
       "    <tr style=\"text-align: right;\">\n",
       "      <th></th>\n",
       "      <th>Name</th>\n",
       "      <th>Age</th>\n",
       "      <th>Gender</th>\n",
       "      <th>Blood Type</th>\n",
       "      <th>Medical Condition</th>\n",
       "      <th>Date of Admission</th>\n",
       "      <th>Doctor</th>\n",
       "      <th>Hospital</th>\n",
       "      <th>Insurance Provider</th>\n",
       "      <th>Billing Amount</th>\n",
       "      <th>Room Number</th>\n",
       "      <th>Admission Type</th>\n",
       "      <th>Discharge Date</th>\n",
       "      <th>Medication</th>\n",
       "      <th>Test Results</th>\n",
       "    </tr>\n",
       "  </thead>\n",
       "  <tbody>\n",
       "    <tr>\n",
       "      <th>55495</th>\n",
       "      <td>eLIZABeTH jaCkSOn</td>\n",
       "      <td>42</td>\n",
       "      <td>Female</td>\n",
       "      <td>O+</td>\n",
       "      <td>Asthma</td>\n",
       "      <td>2020-08-16</td>\n",
       "      <td>Joshua Jarvis</td>\n",
       "      <td>Jones-Thompson</td>\n",
       "      <td>Blue Cross</td>\n",
       "      <td>2650.714952</td>\n",
       "      <td>417</td>\n",
       "      <td>Elective</td>\n",
       "      <td>2020-09-15</td>\n",
       "      <td>Penicillin</td>\n",
       "      <td>Abnormal</td>\n",
       "    </tr>\n",
       "    <tr>\n",
       "      <th>55496</th>\n",
       "      <td>KYle pEREz</td>\n",
       "      <td>61</td>\n",
       "      <td>Female</td>\n",
       "      <td>AB-</td>\n",
       "      <td>Obesity</td>\n",
       "      <td>2020-01-23</td>\n",
       "      <td>Taylor Sullivan</td>\n",
       "      <td>Tucker-Moyer</td>\n",
       "      <td>Cigna</td>\n",
       "      <td>31457.797307</td>\n",
       "      <td>316</td>\n",
       "      <td>Elective</td>\n",
       "      <td>2020-02-01</td>\n",
       "      <td>Aspirin</td>\n",
       "      <td>Normal</td>\n",
       "    </tr>\n",
       "    <tr>\n",
       "      <th>55497</th>\n",
       "      <td>HEATher WaNG</td>\n",
       "      <td>38</td>\n",
       "      <td>Female</td>\n",
       "      <td>B+</td>\n",
       "      <td>Hypertension</td>\n",
       "      <td>2020-07-13</td>\n",
       "      <td>Joe Jacobs DVM</td>\n",
       "      <td>and Mahoney Johnson Vasquez,</td>\n",
       "      <td>UnitedHealthcare</td>\n",
       "      <td>27620.764717</td>\n",
       "      <td>347</td>\n",
       "      <td>Urgent</td>\n",
       "      <td>2020-08-10</td>\n",
       "      <td>Ibuprofen</td>\n",
       "      <td>Abnormal</td>\n",
       "    </tr>\n",
       "    <tr>\n",
       "      <th>55498</th>\n",
       "      <td>JENniFER JOneS</td>\n",
       "      <td>43</td>\n",
       "      <td>Male</td>\n",
       "      <td>O-</td>\n",
       "      <td>Arthritis</td>\n",
       "      <td>2019-05-25</td>\n",
       "      <td>Kimberly Curry</td>\n",
       "      <td>Jackson Todd and Castro,</td>\n",
       "      <td>Medicare</td>\n",
       "      <td>32451.092358</td>\n",
       "      <td>321</td>\n",
       "      <td>Elective</td>\n",
       "      <td>2019-05-31</td>\n",
       "      <td>Ibuprofen</td>\n",
       "      <td>Abnormal</td>\n",
       "    </tr>\n",
       "    <tr>\n",
       "      <th>55499</th>\n",
       "      <td>jAMES GARCiA</td>\n",
       "      <td>53</td>\n",
       "      <td>Female</td>\n",
       "      <td>O+</td>\n",
       "      <td>Arthritis</td>\n",
       "      <td>2024-04-02</td>\n",
       "      <td>Dennis Warren</td>\n",
       "      <td>Henry Sons and</td>\n",
       "      <td>Aetna</td>\n",
       "      <td>4010.134172</td>\n",
       "      <td>448</td>\n",
       "      <td>Urgent</td>\n",
       "      <td>2024-04-29</td>\n",
       "      <td>Ibuprofen</td>\n",
       "      <td>Abnormal</td>\n",
       "    </tr>\n",
       "  </tbody>\n",
       "</table>\n",
       "</div>"
      ],
      "text/plain": [
       "                    Name  Age  Gender Blood Type Medical Condition  \\\n",
       "55495  eLIZABeTH jaCkSOn   42  Female         O+            Asthma   \n",
       "55496         KYle pEREz   61  Female        AB-           Obesity   \n",
       "55497       HEATher WaNG   38  Female         B+      Hypertension   \n",
       "55498     JENniFER JOneS   43    Male         O-         Arthritis   \n",
       "55499       jAMES GARCiA   53  Female         O+         Arthritis   \n",
       "\n",
       "      Date of Admission           Doctor                      Hospital  \\\n",
       "55495        2020-08-16    Joshua Jarvis                Jones-Thompson   \n",
       "55496        2020-01-23  Taylor Sullivan                  Tucker-Moyer   \n",
       "55497        2020-07-13   Joe Jacobs DVM  and Mahoney Johnson Vasquez,   \n",
       "55498        2019-05-25   Kimberly Curry      Jackson Todd and Castro,   \n",
       "55499        2024-04-02    Dennis Warren                Henry Sons and   \n",
       "\n",
       "      Insurance Provider  Billing Amount  Room Number Admission Type  \\\n",
       "55495         Blue Cross     2650.714952          417       Elective   \n",
       "55496              Cigna    31457.797307          316       Elective   \n",
       "55497   UnitedHealthcare    27620.764717          347         Urgent   \n",
       "55498           Medicare    32451.092358          321       Elective   \n",
       "55499              Aetna     4010.134172          448         Urgent   \n",
       "\n",
       "      Discharge Date  Medication Test Results  \n",
       "55495     2020-09-15  Penicillin     Abnormal  \n",
       "55496     2020-02-01     Aspirin       Normal  \n",
       "55497     2020-08-10   Ibuprofen     Abnormal  \n",
       "55498     2019-05-31   Ibuprofen     Abnormal  \n",
       "55499     2024-04-29   Ibuprofen     Abnormal  "
      ]
     },
     "execution_count": 7,
     "metadata": {},
     "output_type": "execute_result"
    }
   ],
   "source": [
    "df.tail()"
   ]
  },
  {
   "cell_type": "code",
   "execution_count": 8,
   "id": "ae3d7a59",
   "metadata": {},
   "outputs": [
    {
     "name": "stdout",
     "output_type": "stream",
     "text": [
      "<class 'pandas.core.frame.DataFrame'>\n",
      "RangeIndex: 55500 entries, 0 to 55499\n",
      "Data columns (total 15 columns):\n",
      " #   Column              Non-Null Count  Dtype  \n",
      "---  ------              --------------  -----  \n",
      " 0   Name                55500 non-null  object \n",
      " 1   Age                 55500 non-null  int64  \n",
      " 2   Gender              55500 non-null  object \n",
      " 3   Blood Type          55500 non-null  object \n",
      " 4   Medical Condition   55500 non-null  object \n",
      " 5   Date of Admission   55500 non-null  object \n",
      " 6   Doctor              55500 non-null  object \n",
      " 7   Hospital            55500 non-null  object \n",
      " 8   Insurance Provider  55500 non-null  object \n",
      " 9   Billing Amount      55500 non-null  float64\n",
      " 10  Room Number         55500 non-null  int64  \n",
      " 11  Admission Type      55500 non-null  object \n",
      " 12  Discharge Date      55500 non-null  object \n",
      " 13  Medication          55500 non-null  object \n",
      " 14  Test Results        55500 non-null  object \n",
      "dtypes: float64(1), int64(2), object(12)\n",
      "memory usage: 6.4+ MB\n"
     ]
    }
   ],
   "source": [
    "df.info()"
   ]
  },
  {
   "cell_type": "code",
   "execution_count": 9,
   "id": "036e66e8",
   "metadata": {},
   "outputs": [
    {
     "data": {
      "application/vnd.microsoft.datawrangler.viewer.v0+json": {
       "columns": [
        {
         "name": "index",
         "rawType": "object",
         "type": "string"
        },
        {
         "name": "Age",
         "rawType": "float64",
         "type": "float"
        },
        {
         "name": "Billing Amount",
         "rawType": "float64",
         "type": "float"
        },
        {
         "name": "Room Number",
         "rawType": "float64",
         "type": "float"
        }
       ],
       "ref": "c88208d3-6413-4f1b-a6b1-c3ad60b3a63b",
       "rows": [
        [
         "count",
         "55500.0",
         "55500.0",
         "55500.0"
        ],
        [
         "mean",
         "51.53945945945946",
         "25539.316097211795",
         "301.1348288288288"
        ],
        [
         "std",
         "19.602453808514348",
         "14211.454430864413",
         "115.2430687009733"
        ],
        [
         "min",
         "13.0",
         "-2008.4921398591305",
         "101.0"
        ],
        [
         "25%",
         "35.0",
         "13241.224652365136",
         "202.0"
        ],
        [
         "50%",
         "52.0",
         "25538.069375965664",
         "302.0"
        ],
        [
         "75%",
         "68.0",
         "37820.508435784795",
         "401.0"
        ],
        [
         "max",
         "89.0",
         "52764.276736469175",
         "500.0"
        ]
       ],
       "shape": {
        "columns": 3,
        "rows": 8
       }
      },
      "text/html": [
       "<div>\n",
       "<style scoped>\n",
       "    .dataframe tbody tr th:only-of-type {\n",
       "        vertical-align: middle;\n",
       "    }\n",
       "\n",
       "    .dataframe tbody tr th {\n",
       "        vertical-align: top;\n",
       "    }\n",
       "\n",
       "    .dataframe thead th {\n",
       "        text-align: right;\n",
       "    }\n",
       "</style>\n",
       "<table border=\"1\" class=\"dataframe\">\n",
       "  <thead>\n",
       "    <tr style=\"text-align: right;\">\n",
       "      <th></th>\n",
       "      <th>Age</th>\n",
       "      <th>Billing Amount</th>\n",
       "      <th>Room Number</th>\n",
       "    </tr>\n",
       "  </thead>\n",
       "  <tbody>\n",
       "    <tr>\n",
       "      <th>count</th>\n",
       "      <td>55500.000000</td>\n",
       "      <td>55500.000000</td>\n",
       "      <td>55500.000000</td>\n",
       "    </tr>\n",
       "    <tr>\n",
       "      <th>mean</th>\n",
       "      <td>51.539459</td>\n",
       "      <td>25539.316097</td>\n",
       "      <td>301.134829</td>\n",
       "    </tr>\n",
       "    <tr>\n",
       "      <th>std</th>\n",
       "      <td>19.602454</td>\n",
       "      <td>14211.454431</td>\n",
       "      <td>115.243069</td>\n",
       "    </tr>\n",
       "    <tr>\n",
       "      <th>min</th>\n",
       "      <td>13.000000</td>\n",
       "      <td>-2008.492140</td>\n",
       "      <td>101.000000</td>\n",
       "    </tr>\n",
       "    <tr>\n",
       "      <th>25%</th>\n",
       "      <td>35.000000</td>\n",
       "      <td>13241.224652</td>\n",
       "      <td>202.000000</td>\n",
       "    </tr>\n",
       "    <tr>\n",
       "      <th>50%</th>\n",
       "      <td>52.000000</td>\n",
       "      <td>25538.069376</td>\n",
       "      <td>302.000000</td>\n",
       "    </tr>\n",
       "    <tr>\n",
       "      <th>75%</th>\n",
       "      <td>68.000000</td>\n",
       "      <td>37820.508436</td>\n",
       "      <td>401.000000</td>\n",
       "    </tr>\n",
       "    <tr>\n",
       "      <th>max</th>\n",
       "      <td>89.000000</td>\n",
       "      <td>52764.276736</td>\n",
       "      <td>500.000000</td>\n",
       "    </tr>\n",
       "  </tbody>\n",
       "</table>\n",
       "</div>"
      ],
      "text/plain": [
       "                Age  Billing Amount   Room Number\n",
       "count  55500.000000    55500.000000  55500.000000\n",
       "mean      51.539459    25539.316097    301.134829\n",
       "std       19.602454    14211.454431    115.243069\n",
       "min       13.000000    -2008.492140    101.000000\n",
       "25%       35.000000    13241.224652    202.000000\n",
       "50%       52.000000    25538.069376    302.000000\n",
       "75%       68.000000    37820.508436    401.000000\n",
       "max       89.000000    52764.276736    500.000000"
      ]
     },
     "execution_count": 9,
     "metadata": {},
     "output_type": "execute_result"
    }
   ],
   "source": [
    "df.describe()"
   ]
  },
  {
   "cell_type": "code",
   "execution_count": 10,
   "id": "337a461f",
   "metadata": {},
   "outputs": [
    {
     "data": {
      "application/vnd.microsoft.datawrangler.viewer.v0+json": {
       "columns": [
        {
         "name": "index",
         "rawType": "object",
         "type": "string"
        },
        {
         "name": "Name",
         "rawType": "object",
         "type": "unknown"
        },
        {
         "name": "Gender",
         "rawType": "object",
         "type": "unknown"
        },
        {
         "name": "Blood Type",
         "rawType": "object",
         "type": "unknown"
        },
        {
         "name": "Medical Condition",
         "rawType": "object",
         "type": "unknown"
        },
        {
         "name": "Date of Admission",
         "rawType": "object",
         "type": "unknown"
        },
        {
         "name": "Doctor",
         "rawType": "object",
         "type": "unknown"
        },
        {
         "name": "Hospital",
         "rawType": "object",
         "type": "unknown"
        },
        {
         "name": "Insurance Provider",
         "rawType": "object",
         "type": "unknown"
        },
        {
         "name": "Admission Type",
         "rawType": "object",
         "type": "unknown"
        },
        {
         "name": "Discharge Date",
         "rawType": "object",
         "type": "unknown"
        },
        {
         "name": "Medication",
         "rawType": "object",
         "type": "unknown"
        },
        {
         "name": "Test Results",
         "rawType": "object",
         "type": "unknown"
        }
       ],
       "ref": "eb5abb1d-24a9-4c31-9d4d-6c8236d0e14b",
       "rows": [
        [
         "count",
         "55500",
         "55500",
         "55500",
         "55500",
         "55500",
         "55500",
         "55500",
         "55500",
         "55500",
         "55500",
         "55500",
         "55500"
        ],
        [
         "unique",
         "49992",
         "2",
         "8",
         "6",
         "1827",
         "40341",
         "39876",
         "5",
         "3",
         "1856",
         "5",
         "3"
        ],
        [
         "top",
         "DAvId muNoZ",
         "Male",
         "A-",
         "Arthritis",
         "2024-03-16",
         "Michael Smith",
         "LLC Smith",
         "Cigna",
         "Elective",
         "2020-03-15",
         "Lipitor",
         "Abnormal"
        ],
        [
         "freq",
         "3",
         "27774",
         "6969",
         "9308",
         "50",
         "27",
         "44",
         "11249",
         "18655",
         "53",
         "11140",
         "18627"
        ]
       ],
       "shape": {
        "columns": 12,
        "rows": 4
       }
      },
      "text/html": [
       "<div>\n",
       "<style scoped>\n",
       "    .dataframe tbody tr th:only-of-type {\n",
       "        vertical-align: middle;\n",
       "    }\n",
       "\n",
       "    .dataframe tbody tr th {\n",
       "        vertical-align: top;\n",
       "    }\n",
       "\n",
       "    .dataframe thead th {\n",
       "        text-align: right;\n",
       "    }\n",
       "</style>\n",
       "<table border=\"1\" class=\"dataframe\">\n",
       "  <thead>\n",
       "    <tr style=\"text-align: right;\">\n",
       "      <th></th>\n",
       "      <th>Name</th>\n",
       "      <th>Gender</th>\n",
       "      <th>Blood Type</th>\n",
       "      <th>Medical Condition</th>\n",
       "      <th>Date of Admission</th>\n",
       "      <th>Doctor</th>\n",
       "      <th>Hospital</th>\n",
       "      <th>Insurance Provider</th>\n",
       "      <th>Admission Type</th>\n",
       "      <th>Discharge Date</th>\n",
       "      <th>Medication</th>\n",
       "      <th>Test Results</th>\n",
       "    </tr>\n",
       "  </thead>\n",
       "  <tbody>\n",
       "    <tr>\n",
       "      <th>count</th>\n",
       "      <td>55500</td>\n",
       "      <td>55500</td>\n",
       "      <td>55500</td>\n",
       "      <td>55500</td>\n",
       "      <td>55500</td>\n",
       "      <td>55500</td>\n",
       "      <td>55500</td>\n",
       "      <td>55500</td>\n",
       "      <td>55500</td>\n",
       "      <td>55500</td>\n",
       "      <td>55500</td>\n",
       "      <td>55500</td>\n",
       "    </tr>\n",
       "    <tr>\n",
       "      <th>unique</th>\n",
       "      <td>49992</td>\n",
       "      <td>2</td>\n",
       "      <td>8</td>\n",
       "      <td>6</td>\n",
       "      <td>1827</td>\n",
       "      <td>40341</td>\n",
       "      <td>39876</td>\n",
       "      <td>5</td>\n",
       "      <td>3</td>\n",
       "      <td>1856</td>\n",
       "      <td>5</td>\n",
       "      <td>3</td>\n",
       "    </tr>\n",
       "    <tr>\n",
       "      <th>top</th>\n",
       "      <td>DAvId muNoZ</td>\n",
       "      <td>Male</td>\n",
       "      <td>A-</td>\n",
       "      <td>Arthritis</td>\n",
       "      <td>2024-03-16</td>\n",
       "      <td>Michael Smith</td>\n",
       "      <td>LLC Smith</td>\n",
       "      <td>Cigna</td>\n",
       "      <td>Elective</td>\n",
       "      <td>2020-03-15</td>\n",
       "      <td>Lipitor</td>\n",
       "      <td>Abnormal</td>\n",
       "    </tr>\n",
       "    <tr>\n",
       "      <th>freq</th>\n",
       "      <td>3</td>\n",
       "      <td>27774</td>\n",
       "      <td>6969</td>\n",
       "      <td>9308</td>\n",
       "      <td>50</td>\n",
       "      <td>27</td>\n",
       "      <td>44</td>\n",
       "      <td>11249</td>\n",
       "      <td>18655</td>\n",
       "      <td>53</td>\n",
       "      <td>11140</td>\n",
       "      <td>18627</td>\n",
       "    </tr>\n",
       "  </tbody>\n",
       "</table>\n",
       "</div>"
      ],
      "text/plain": [
       "               Name Gender Blood Type Medical Condition Date of Admission  \\\n",
       "count         55500  55500      55500             55500             55500   \n",
       "unique        49992      2          8                 6              1827   \n",
       "top     DAvId muNoZ   Male         A-         Arthritis        2024-03-16   \n",
       "freq              3  27774       6969              9308                50   \n",
       "\n",
       "               Doctor   Hospital Insurance Provider Admission Type  \\\n",
       "count           55500      55500              55500          55500   \n",
       "unique          40341      39876                  5              3   \n",
       "top     Michael Smith  LLC Smith              Cigna       Elective   \n",
       "freq               27         44              11249          18655   \n",
       "\n",
       "       Discharge Date Medication Test Results  \n",
       "count           55500      55500        55500  \n",
       "unique           1856          5            3  \n",
       "top        2020-03-15    Lipitor     Abnormal  \n",
       "freq               53      11140        18627  "
      ]
     },
     "execution_count": 10,
     "metadata": {},
     "output_type": "execute_result"
    }
   ],
   "source": [
    "df.describe(include=\"object\")"
   ]
  },
  {
   "cell_type": "code",
   "execution_count": 11,
   "id": "796a95ca",
   "metadata": {},
   "outputs": [
    {
     "name": "stdout",
     "output_type": "stream",
     "text": [
      "columns of the dataset: ['Name', 'Age', 'Gender', 'Blood Type', 'Medical Condition', 'Date of Admission', 'Doctor', 'Hospital', 'Insurance Provider', 'Billing Amount', 'Room Number', 'Admission Type', 'Discharge Date', 'Medication', 'Test Results']\n"
     ]
    }
   ],
   "source": [
    "print(f\"columns of the dataset: {df.columns.to_list()}\")"
   ]
  },
  {
   "cell_type": "code",
   "execution_count": 12,
   "id": "24cfd6ab",
   "metadata": {},
   "outputs": [
    {
     "name": "stdout",
     "output_type": "stream",
     "text": [
      "shape of the dataset: (55500, 15)\n"
     ]
    }
   ],
   "source": [
    "print(f\"shape of the dataset: {df.shape}\")"
   ]
  },
  {
   "cell_type": "code",
   "execution_count": 13,
   "id": "62d13557",
   "metadata": {},
   "outputs": [
    {
     "name": "stdout",
     "output_type": "stream",
     "text": [
      "data types: Name                   object\n",
      "Age                     int64\n",
      "Gender                 object\n",
      "Blood Type             object\n",
      "Medical Condition      object\n",
      "Date of Admission      object\n",
      "Doctor                 object\n",
      "Hospital               object\n",
      "Insurance Provider     object\n",
      "Billing Amount        float64\n",
      "Room Number             int64\n",
      "Admission Type         object\n",
      "Discharge Date         object\n",
      "Medication             object\n",
      "Test Results           object\n",
      "dtype: object\n"
     ]
    }
   ],
   "source": [
    "print(f\"data types: {df.dtypes}\")"
   ]
  },
  {
   "cell_type": "code",
   "execution_count": 14,
   "id": "cc1a262e",
   "metadata": {},
   "outputs": [
    {
     "name": "stdout",
     "output_type": "stream",
     "text": [
      "missing values in each column:\n",
      "Name                  0\n",
      "Age                   0\n",
      "Gender                0\n",
      "Blood Type            0\n",
      "Medical Condition     0\n",
      "Date of Admission     0\n",
      "Doctor                0\n",
      "Hospital              0\n",
      "Insurance Provider    0\n",
      "Billing Amount        0\n",
      "Room Number           0\n",
      "Admission Type        0\n",
      "Discharge Date        0\n",
      "Medication            0\n",
      "Test Results          0\n",
      "dtype: int64\n"
     ]
    }
   ],
   "source": [
    "print(f\"missing values in each column:\\n{df.isnull().sum()}\")"
   ]
  },
  {
   "cell_type": "code",
   "execution_count": 15,
   "id": "a2962359",
   "metadata": {},
   "outputs": [
    {
     "name": "stdout",
     "output_type": "stream",
     "text": [
      "duplicate rows: 534\n"
     ]
    }
   ],
   "source": [
    "print(f\"duplicate rows: {df.duplicated().sum()}\")\n",
    "## there are roughly 1% of duplicate rows in the dataset\n",
    "## we can drop them"
   ]
  },
  {
   "cell_type": "code",
   "execution_count": 16,
   "id": "b12ee83c",
   "metadata": {},
   "outputs": [],
   "source": [
    "df = df.drop_duplicates()"
   ]
  },
  {
   "cell_type": "code",
   "execution_count": 17,
   "id": "5a9ca409",
   "metadata": {},
   "outputs": [
    {
     "data": {
      "text/plain": [
       "(54966, 15)"
      ]
     },
     "execution_count": 17,
     "metadata": {},
     "output_type": "execute_result"
    }
   ],
   "source": [
    "df.shape"
   ]
  },
  {
   "cell_type": "code",
   "execution_count": 18,
   "id": "67a66245",
   "metadata": {},
   "outputs": [
    {
     "data": {
      "text/plain": [
       "np.float64(0.0)"
      ]
     },
     "execution_count": 18,
     "metadata": {},
     "output_type": "execute_result"
    }
   ],
   "source": [
    "df.isnull().sum().mean()*100"
   ]
  },
  {
   "cell_type": "code",
   "execution_count": 19,
   "id": "a334358f",
   "metadata": {},
   "outputs": [],
   "source": [
    "num_features = df.select_dtypes(include=['int64', 'float64']).columns.to_list()\n",
    "cat_features = df.select_dtypes(include=['object']).columns.to_list()"
   ]
  },
  {
   "cell_type": "code",
   "execution_count": 20,
   "id": "08efa13c",
   "metadata": {},
   "outputs": [
    {
     "name": "stdout",
     "output_type": "stream",
     "text": [
      "Numerical features: ['Age', 'Billing Amount', 'Room Number']\n",
      "Categorical features: ['Name', 'Gender', 'Blood Type', 'Medical Condition', 'Date of Admission', 'Doctor', 'Hospital', 'Insurance Provider', 'Admission Type', 'Discharge Date', 'Medication', 'Test Results']\n"
     ]
    }
   ],
   "source": [
    "print(f\"Numerical features: {num_features}\")\n",
    "print(f\"Categorical features: {cat_features}\")"
   ]
  },
  {
   "cell_type": "code",
   "execution_count": 21,
   "id": "eb9e009c",
   "metadata": {},
   "outputs": [
    {
     "data": {
      "image/png": "[encoded data removed]",
      "text/plain": [
       "<Figure size 1200x800 with 2 Axes>"
      ]
     },
     "metadata": {},
     "output_type": "display_data"
    }
   ],
   "source": [
    "corr_matrix = df[num_features].corr()\n",
    "plt.figure(figsize=(12, 8))\n",
    "sns.heatmap(corr_matrix, annot=True, fmt=\"4f\", cmap=\"coolwarm\")\n",
    "plt.title(\"Correlation Matrix of Numerical Features\")\n",
    "plt.show()"
   ]
  },
  {
   "cell_type": "code",
   "execution_count": 22,
   "id": "49cc3a4d",
   "metadata": {},
   "outputs": [
    {
     "name": "stdout",
     "output_type": "stream",
     "text": [
      "                     Age  Billing Amount  Room Number\n",
      "Age             1.000000       -0.003427    -0.000352\n",
      "Billing Amount -0.003427        1.000000    -0.003930\n",
      "Room Number    -0.000352       -0.003930     1.000000\n"
     ]
    }
   ],
   "source": [
    "corr_matrix = df[num_features].corr()\n",
    "print(corr_matrix)"
   ]
  },
  {
   "cell_type": "code",
   "execution_count": 23,
   "id": "93d8b048",
   "metadata": {},
   "outputs": [
    {
     "data": {
      "image/png": "[encoded data removed]",
      "text/plain": [
       "<Figure size 640x480 with 1 Axes>"
      ]
     },
     "metadata": {},
     "output_type": "display_data"
    }
   ],
   "source": [
    "df['Blood Type'].value_counts().plot(kind='bar', color='red')\n",
    "plt.title('Distribution of Blood Types')\n",
    "plt.xlabel('Blood Type')\n",
    "plt.ylabel('Count')\n",
    "plt.show()"
   ]
  },
  {
   "cell_type": "code",
   "execution_count": 24,
   "id": "de108575",
   "metadata": {},
   "outputs": [
    {
     "data": {
      "text/plain": [
       "Index(['Name', 'Age', 'Gender', 'Blood Type', 'Medical Condition',\n",
       "       'Date of Admission', 'Doctor', 'Hospital', 'Insurance Provider',\n",
       "       'Billing Amount', 'Room Number', 'Admission Type', 'Discharge Date',\n",
       "       'Medication', 'Test Results'],\n",
       "      dtype='object')"
      ]
     },
     "execution_count": 24,
     "metadata": {},
     "output_type": "execute_result"
    }
   ],
   "source": [
    "df.columns"
   ]
  },
  {
   "cell_type": "code",
   "execution_count": 25,
   "id": "f81010b9",
   "metadata": {},
   "outputs": [],
   "source": [
    "df['Name'] = df['Name'].str.title()"
   ]
  },
  {
   "cell_type": "code",
   "execution_count": 26,
   "id": "99d8260d",
   "metadata": {},
   "outputs": [
    {
     "data": {
      "application/vnd.microsoft.datawrangler.viewer.v0+json": {
       "columns": [
        {
         "name": "index",
         "rawType": "int64",
         "type": "integer"
        },
        {
         "name": "Name",
         "rawType": "object",
         "type": "string"
        }
       ],
       "ref": "3d3a3c44-5857-463d-8350-b4e41fa18b0e",
       "rows": [
        [
         "0",
         "Bobby Jackson"
        ],
        [
         "1",
         "Leslie Terry"
        ],
        [
         "2",
         "Danny Smith"
        ],
        [
         "3",
         "Andrew Watts"
        ],
        [
         "4",
         "Adrienne Bell"
        ],
        [
         "5",
         "Emily Johnson"
        ],
        [
         "6",
         "Edward Edwards"
        ],
        [
         "7",
         "Christina Martinez"
        ],
        [
         "8",
         "Jasmine Aguilar"
        ],
        [
         "9",
         "Christopher Berg"
        ],
        [
         "10",
         "Michelle Daniels"
        ],
        [
         "11",
         "Aaron Martinez"
        ],
        [
         "12",
         "Connor Hansen"
        ],
        [
         "13",
         "Robert Bauer"
        ],
        [
         "14",
         "Brooke Brady"
        ],
        [
         "15",
         "Ms. Natalie Gamble"
        ],
        [
         "16",
         "Haley Perkins"
        ],
        [
         "17",
         "Mrs. Jamie Campbell"
        ],
        [
         "18",
         "Luke Burgess"
        ],
        [
         "19",
         "Daniel Schmidt"
        ],
        [
         "20",
         "Timothy Burns"
        ],
        [
         "21",
         "Christopher Bright"
        ],
        [
         "22",
         "Kathryn Stewart"
        ],
        [
         "23",
         "Dr. Eileen Thompson"
        ],
        [
         "24",
         "Paul Henderson"
        ],
        [
         "25",
         "Peter Fitzgerald"
        ],
        [
         "26",
         "Cathy Small"
        ],
        [
         "27",
         "Mr. Kenneth Moore"
        ],
        [
         "28",
         "Mary Hunter"
        ],
        [
         "29",
         "Joshua Oliver"
        ],
        [
         "30",
         "Thomas Martinez"
        ],
        [
         "31",
         "James Patterson"
        ],
        [
         "32",
         "William Cooper"
        ],
        [
         "33",
         "Erin Ortega"
        ],
        [
         "34",
         "Nicole Rodriguez"
        ],
        [
         "35",
         "David Anderson"
        ],
        [
         "36",
         "Denise Torres"
        ],
        [
         "37",
         "Cassandra Robinson"
        ],
        [
         "38",
         "Nicole Lucero"
        ],
        [
         "39",
         "Pamela Fernandez"
        ],
        [
         "40",
         "Christopher Lee"
        ],
        [
         "41",
         "Thomas Morse"
        ],
        [
         "42",
         "Mr. Eric Lane"
        ],
        [
         "43",
         "Katherine Smith"
        ],
        [
         "44",
         "Paul Williams"
        ],
        [
         "45",
         "Lynn Martinez"
        ],
        [
         "46",
         "Christopher Chapman"
        ],
        [
         "47",
         "Chris Frye"
        ],
        [
         "48",
         "Kyle Bennett"
        ],
        [
         "49",
         "Brandon Collins"
        ]
       ],
       "shape": {
        "columns": 1,
        "rows": 54966
       }
      },
      "text/plain": [
       "0            Bobby Jackson\n",
       "1             Leslie Terry\n",
       "2              Danny Smith\n",
       "3             Andrew Watts\n",
       "4            Adrienne Bell\n",
       "               ...        \n",
       "55495    Elizabeth Jackson\n",
       "55496           Kyle Perez\n",
       "55497         Heather Wang\n",
       "55498       Jennifer Jones\n",
       "55499         James Garcia\n",
       "Name: Name, Length: 54966, dtype: object"
      ]
     },
     "execution_count": 26,
     "metadata": {},
     "output_type": "execute_result"
    }
   ],
   "source": [
    "df['Name']"
   ]
  },
  {
   "cell_type": "code",
   "execution_count": 27,
   "id": "3adef3f9",
   "metadata": {},
   "outputs": [
    {
     "data": {
      "text/plain": [
       "array(['Bobby Jackson', 'Leslie Terry', 'Danny Smith', ...,\n",
       "       'Lisa Simpson', 'Roger Farrell', 'Katherine Webster'],\n",
       "      shape=(40235,), dtype=object)"
      ]
     },
     "execution_count": 27,
     "metadata": {},
     "output_type": "execute_result"
    }
   ],
   "source": [
    "df['Name'].unique()"
   ]
  },
  {
   "cell_type": "code",
   "execution_count": 28,
   "id": "806d784c",
   "metadata": {},
   "outputs": [
    {
     "data": {
      "application/vnd.microsoft.datawrangler.viewer.v0+json": {
       "columns": [
        {
         "name": "index",
         "rawType": "int64",
         "type": "integer"
        },
        {
         "name": "Gender",
         "rawType": "object",
         "type": "string"
        }
       ],
       "ref": "ea9f7c53-c99c-4fb4-8c65-c6b2689d5b4e",
       "rows": [
        [
         "0",
         "Male"
        ],
        [
         "1",
         "Male"
        ],
        [
         "2",
         "Female"
        ],
        [
         "3",
         "Female"
        ],
        [
         "4",
         "Female"
        ],
        [
         "5",
         "Male"
        ],
        [
         "6",
         "Female"
        ],
        [
         "7",
         "Female"
        ],
        [
         "8",
         "Male"
        ],
        [
         "9",
         "Female"
        ],
        [
         "10",
         "Male"
        ],
        [
         "11",
         "Female"
        ],
        [
         "12",
         "Female"
        ],
        [
         "13",
         "Female"
        ],
        [
         "14",
         "Female"
        ],
        [
         "15",
         "Female"
        ],
        [
         "16",
         "Female"
        ],
        [
         "17",
         "Male"
        ],
        [
         "18",
         "Female"
        ],
        [
         "19",
         "Male"
        ],
        [
         "20",
         "Female"
        ],
        [
         "21",
         "Male"
        ],
        [
         "22",
         "Female"
        ],
        [
         "23",
         "Male"
        ],
        [
         "24",
         "Female"
        ],
        [
         "25",
         "Male"
        ],
        [
         "26",
         "Female"
        ],
        [
         "27",
         "Female"
        ],
        [
         "28",
         "Female"
        ],
        [
         "29",
         "Female"
        ],
        [
         "30",
         "Male"
        ],
        [
         "31",
         "Female"
        ],
        [
         "32",
         "Male"
        ],
        [
         "33",
         "Male"
        ],
        [
         "34",
         "Female"
        ],
        [
         "35",
         "Female"
        ],
        [
         "36",
         "Male"
        ],
        [
         "37",
         "Female"
        ],
        [
         "38",
         "Female"
        ],
        [
         "39",
         "Female"
        ],
        [
         "40",
         "Female"
        ],
        [
         "41",
         "Male"
        ],
        [
         "42",
         "Female"
        ],
        [
         "43",
         "Female"
        ],
        [
         "44",
         "Female"
        ],
        [
         "45",
         "Male"
        ],
        [
         "46",
         "Female"
        ],
        [
         "47",
         "Male"
        ],
        [
         "48",
         "Male"
        ],
        [
         "49",
         "Female"
        ]
       ],
       "shape": {
        "columns": 1,
        "rows": 54966
       }
      },
      "text/plain": [
       "0          Male\n",
       "1          Male\n",
       "2        Female\n",
       "3        Female\n",
       "4        Female\n",
       "          ...  \n",
       "55495    Female\n",
       "55496    Female\n",
       "55497    Female\n",
       "55498      Male\n",
       "55499    Female\n",
       "Name: Gender, Length: 54966, dtype: object"
      ]
     },
     "execution_count": 28,
     "metadata": {},
     "output_type": "execute_result"
    }
   ],
   "source": [
    "df['Gender']"
   ]
  },
  {
   "cell_type": "code",
   "execution_count": 29,
   "id": "251838d2",
   "metadata": {},
   "outputs": [],
   "source": [
    "df['Gender'] = df['Gender'].map({'Male': 0, 'Female': 1})"
   ]
  },
  {
   "cell_type": "code",
   "execution_count": 30,
   "id": "5900a366",
   "metadata": {},
   "outputs": [
    {
     "data": {
      "application/vnd.microsoft.datawrangler.viewer.v0+json": {
       "columns": [
        {
         "name": "index",
         "rawType": "int64",
         "type": "integer"
        },
        {
         "name": "Gender",
         "rawType": "int64",
         "type": "integer"
        }
       ],
       "ref": "4f6f6ebf-0b3a-4420-b12e-82efe7ac1a52",
       "rows": [
        [
         "0",
         "0"
        ],
        [
         "1",
         "0"
        ],
        [
         "2",
         "1"
        ],
        [
         "3",
         "1"
        ],
        [
         "4",
         "1"
        ],
        [
         "5",
         "0"
        ],
        [
         "6",
         "1"
        ],
        [
         "7",
         "1"
        ],
        [
         "8",
         "0"
        ],
        [
         "9",
         "1"
        ],
        [
         "10",
         "0"
        ],
        [
         "11",
         "1"
        ],
        [
         "12",
         "1"
        ],
        [
         "13",
         "1"
        ],
        [
         "14",
         "1"
        ],
        [
         "15",
         "1"
        ],
        [
         "16",
         "1"
        ],
        [
         "17",
         "0"
        ],
        [
         "18",
         "1"
        ],
        [
         "19",
         "0"
        ],
        [
         "20",
         "1"
        ],
        [
         "21",
         "0"
        ],
        [
         "22",
         "1"
        ],
        [
         "23",
         "0"
        ],
        [
         "24",
         "1"
        ],
        [
         "25",
         "0"
        ],
        [
         "26",
         "1"
        ],
        [
         "27",
         "1"
        ],
        [
         "28",
         "1"
        ],
        [
         "29",
         "1"
        ],
        [
         "30",
         "0"
        ],
        [
         "31",
         "1"
        ],
        [
         "32",
         "0"
        ],
        [
         "33",
         "0"
        ],
        [
         "34",
         "1"
        ],
        [
         "35",
         "1"
        ],
        [
         "36",
         "0"
        ],
        [
         "37",
         "1"
        ],
        [
         "38",
         "1"
        ],
        [
         "39",
         "1"
        ],
        [
         "40",
         "1"
        ],
        [
         "41",
         "0"
        ],
        [
         "42",
         "1"
        ],
        [
         "43",
         "1"
        ],
        [
         "44",
         "1"
        ],
        [
         "45",
         "0"
        ],
        [
         "46",
         "1"
        ],
        [
         "47",
         "0"
        ],
        [
         "48",
         "0"
        ],
        [
         "49",
         "1"
        ]
       ],
       "shape": {
        "columns": 1,
        "rows": 54966
       }
      },
      "text/plain": [
       "0        0\n",
       "1        0\n",
       "2        1\n",
       "3        1\n",
       "4        1\n",
       "        ..\n",
       "55495    1\n",
       "55496    1\n",
       "55497    1\n",
       "55498    0\n",
       "55499    1\n",
       "Name: Gender, Length: 54966, dtype: int64"
      ]
     },
     "execution_count": 30,
     "metadata": {},
     "output_type": "execute_result"
    }
   ],
   "source": [
    "df['Gender']"
   ]
  },
  {
   "cell_type": "code",
   "execution_count": 31,
   "id": "82a40cb7",
   "metadata": {},
   "outputs": [
    {
     "data": {
      "application/vnd.microsoft.datawrangler.viewer.v0+json": {
       "columns": [
        {
         "name": "index",
         "rawType": "int64",
         "type": "integer"
        },
        {
         "name": "Age",
         "rawType": "int64",
         "type": "integer"
        }
       ],
       "ref": "33ff1db4-a684-4f20-98e1-99e82142baed",
       "rows": [
        [
         "0",
         "30"
        ],
        [
         "1",
         "62"
        ],
        [
         "2",
         "76"
        ],
        [
         "3",
         "28"
        ],
        [
         "4",
         "43"
        ],
        [
         "5",
         "36"
        ],
        [
         "6",
         "21"
        ],
        [
         "7",
         "20"
        ],
        [
         "8",
         "82"
        ],
        [
         "9",
         "58"
        ],
        [
         "10",
         "72"
        ],
        [
         "11",
         "38"
        ],
        [
         "12",
         "75"
        ],
        [
         "13",
         "68"
        ],
        [
         "14",
         "44"
        ],
        [
         "15",
         "46"
        ],
        [
         "16",
         "63"
        ],
        [
         "17",
         "38"
        ],
        [
         "18",
         "34"
        ],
        [
         "19",
         "63"
        ],
        [
         "20",
         "67"
        ],
        [
         "21",
         "48"
        ],
        [
         "22",
         "58"
        ],
        [
         "23",
         "59"
        ],
        [
         "24",
         "72"
        ],
        [
         "25",
         "73"
        ],
        [
         "26",
         "51"
        ],
        [
         "27",
         "34"
        ],
        [
         "28",
         "38"
        ],
        [
         "29",
         "63"
        ],
        [
         "30",
         "34"
        ],
        [
         "31",
         "23"
        ],
        [
         "32",
         "78"
        ],
        [
         "33",
         "43"
        ],
        [
         "34",
         "30"
        ],
        [
         "35",
         "25"
        ],
        [
         "36",
         "33"
        ],
        [
         "37",
         "26"
        ],
        [
         "38",
         "70"
        ],
        [
         "39",
         "57"
        ],
        [
         "40",
         "74"
        ],
        [
         "41",
         "81"
        ],
        [
         "42",
         "49"
        ],
        [
         "43",
         "26"
        ],
        [
         "44",
         "81"
        ],
        [
         "45",
         "65"
        ],
        [
         "46",
         "31"
        ],
        [
         "47",
         "58"
        ],
        [
         "48",
         "22"
        ],
        [
         "49",
         "77"
        ]
       ],
       "shape": {
        "columns": 1,
        "rows": 54966
       }
      },
      "text/plain": [
       "0        30\n",
       "1        62\n",
       "2        76\n",
       "3        28\n",
       "4        43\n",
       "         ..\n",
       "55495    42\n",
       "55496    61\n",
       "55497    38\n",
       "55498    43\n",
       "55499    53\n",
       "Name: Age, Length: 54966, dtype: int64"
      ]
     },
     "execution_count": 31,
     "metadata": {},
     "output_type": "execute_result"
    }
   ],
   "source": [
    "df['Age']"
   ]
  },
  {
   "cell_type": "code",
   "execution_count": 32,
   "id": "ae60f120",
   "metadata": {},
   "outputs": [
    {
     "data": {
      "application/vnd.microsoft.datawrangler.viewer.v0+json": {
       "columns": [
        {
         "name": "index",
         "rawType": "int64",
         "type": "integer"
        },
        {
         "name": "Medical Condition",
         "rawType": "object",
         "type": "string"
        }
       ],
       "ref": "5637009e-a70b-4df1-a908-71eb65f03726",
       "rows": [
        [
         "0",
         "Cancer"
        ],
        [
         "1",
         "Obesity"
        ],
        [
         "2",
         "Obesity"
        ],
        [
         "3",
         "Diabetes"
        ],
        [
         "4",
         "Cancer"
        ],
        [
         "5",
         "Asthma"
        ],
        [
         "6",
         "Diabetes"
        ],
        [
         "7",
         "Cancer"
        ],
        [
         "8",
         "Asthma"
        ],
        [
         "9",
         "Cancer"
        ],
        [
         "10",
         "Cancer"
        ],
        [
         "11",
         "Hypertension"
        ],
        [
         "12",
         "Diabetes"
        ],
        [
         "13",
         "Asthma"
        ],
        [
         "14",
         "Cancer"
        ],
        [
         "15",
         "Obesity"
        ],
        [
         "16",
         "Arthritis"
        ],
        [
         "17",
         "Obesity"
        ],
        [
         "18",
         "Hypertension"
        ],
        [
         "19",
         "Asthma"
        ],
        [
         "20",
         "Asthma"
        ],
        [
         "21",
         "Asthma"
        ],
        [
         "22",
         "Arthritis"
        ],
        [
         "23",
         "Asthma"
        ],
        [
         "24",
         "Hypertension"
        ],
        [
         "25",
         "Obesity"
        ],
        [
         "26",
         "Asthma"
        ],
        [
         "27",
         "Diabetes"
        ],
        [
         "28",
         "Hypertension"
        ],
        [
         "29",
         "Hypertension"
        ],
        [
         "30",
         "Asthma"
        ],
        [
         "31",
         "Arthritis"
        ],
        [
         "32",
         "Arthritis"
        ],
        [
         "33",
         "Cancer"
        ],
        [
         "34",
         "Diabetes"
        ],
        [
         "35",
         "Asthma"
        ],
        [
         "36",
         "Diabetes"
        ],
        [
         "37",
         "Hypertension"
        ],
        [
         "38",
         "Diabetes"
        ],
        [
         "39",
         "Obesity"
        ],
        [
         "40",
         "Hypertension"
        ],
        [
         "41",
         "Hypertension"
        ],
        [
         "42",
         "Asthma"
        ],
        [
         "43",
         "Obesity"
        ],
        [
         "44",
         "Cancer"
        ],
        [
         "45",
         "Cancer"
        ],
        [
         "46",
         "Hypertension"
        ],
        [
         "47",
         "Diabetes"
        ],
        [
         "48",
         "Hypertension"
        ],
        [
         "49",
         "Asthma"
        ]
       ],
       "shape": {
        "columns": 1,
        "rows": 54966
       }
      },
      "text/plain": [
       "0              Cancer\n",
       "1             Obesity\n",
       "2             Obesity\n",
       "3            Diabetes\n",
       "4              Cancer\n",
       "             ...     \n",
       "55495          Asthma\n",
       "55496         Obesity\n",
       "55497    Hypertension\n",
       "55498       Arthritis\n",
       "55499       Arthritis\n",
       "Name: Medical Condition, Length: 54966, dtype: object"
      ]
     },
     "execution_count": 32,
     "metadata": {},
     "output_type": "execute_result"
    }
   ],
   "source": [
    "df['Medical Condition']"
   ]
  },
  {
   "cell_type": "code",
   "execution_count": 33,
   "id": "8cff086b",
   "metadata": {},
   "outputs": [
    {
     "data": {
      "application/vnd.microsoft.datawrangler.viewer.v0+json": {
       "columns": [
        {
         "name": "Medical Condition",
         "rawType": "object",
         "type": "string"
        },
        {
         "name": "count",
         "rawType": "int64",
         "type": "integer"
        }
       ],
       "ref": "326f3586-f2e1-4120-84ad-c8d7c7cfd677",
       "rows": [
        [
         "Arthritis",
         "9218"
        ],
        [
         "Diabetes",
         "9216"
        ],
        [
         "Hypertension",
         "9151"
        ],
        [
         "Obesity",
         "9146"
        ],
        [
         "Cancer",
         "9140"
        ],
        [
         "Asthma",
         "9095"
        ]
       ],
       "shape": {
        "columns": 1,
        "rows": 6
       }
      },
      "text/plain": [
       "Medical Condition\n",
       "Arthritis       9218\n",
       "Diabetes        9216\n",
       "Hypertension    9151\n",
       "Obesity         9146\n",
       "Cancer          9140\n",
       "Asthma          9095\n",
       "Name: count, dtype: int64"
      ]
     },
     "execution_count": 33,
     "metadata": {},
     "output_type": "execute_result"
    }
   ],
   "source": [
    "df['Medical Condition'].value_counts()"
   ]
  },
  {
   "cell_type": "code",
   "execution_count": 34,
   "id": "97e165e1",
   "metadata": {},
   "outputs": [
    {
     "data": {
      "image/png": "[encoded data removed]",
      "text/plain": [
       "<Figure size 640x480 with 1 Axes>"
      ]
     },
     "metadata": {},
     "output_type": "display_data"
    }
   ],
   "source": [
    "df['Medical Condition'].value_counts().plot(kind='bar', color='lightgreen')\n",
    "plt.title('Distribution of Medical Conditions')\n",
    "plt.xlabel('Medical Condition')\n",
    "plt.ylabel('Count')\n",
    "plt.show()"
   ]
  },
  {
   "cell_type": "code",
   "execution_count": 35,
   "id": "eb9b3b07",
   "metadata": {},
   "outputs": [
    {
     "data": {
      "text/plain": [
       "Index(['Name', 'Age', 'Gender', 'Blood Type', 'Medical Condition',\n",
       "       'Date of Admission', 'Doctor', 'Hospital', 'Insurance Provider',\n",
       "       'Billing Amount', 'Room Number', 'Admission Type', 'Discharge Date',\n",
       "       'Medication', 'Test Results'],\n",
       "      dtype='object')"
      ]
     },
     "execution_count": 35,
     "metadata": {},
     "output_type": "execute_result"
    }
   ],
   "source": [
    "df.columns"
   ]
  },
  {
   "cell_type": "code",
   "execution_count": 36,
   "id": "e49549db",
   "metadata": {},
   "outputs": [
    {
     "data": {
      "application/vnd.microsoft.datawrangler.viewer.v0+json": {
       "columns": [
        {
         "name": "index",
         "rawType": "int64",
         "type": "integer"
        },
        {
         "name": "Date of Admission",
         "rawType": "object",
         "type": "string"
        }
       ],
       "ref": "7fd64aae-71f4-4766-b2fc-72d04823b5cf",
       "rows": [
        [
         "0",
         "2024-01-31"
        ],
        [
         "1",
         "2019-08-20"
        ],
        [
         "2",
         "2022-09-22"
        ],
        [
         "3",
         "2020-11-18"
        ],
        [
         "4",
         "2022-09-19"
        ],
        [
         "5",
         "2023-12-20"
        ],
        [
         "6",
         "2020-11-03"
        ],
        [
         "7",
         "2021-12-28"
        ],
        [
         "8",
         "2020-07-01"
        ],
        [
         "9",
         "2021-05-23"
        ],
        [
         "10",
         "2020-04-19"
        ],
        [
         "11",
         "2023-08-13"
        ],
        [
         "12",
         "2019-12-12"
        ],
        [
         "13",
         "2020-05-22"
        ],
        [
         "14",
         "2021-10-08"
        ],
        [
         "15",
         "2023-01-01"
        ],
        [
         "16",
         "2020-06-23"
        ],
        [
         "17",
         "2020-03-08"
        ],
        [
         "18",
         "2021-03-04"
        ],
        [
         "19",
         "2022-11-15"
        ],
        [
         "20",
         "2023-06-28"
        ],
        [
         "21",
         "2020-01-21"
        ],
        [
         "22",
         "2022-05-12"
        ],
        [
         "23",
         "2021-08-02"
        ],
        [
         "24",
         "2020-05-15"
        ],
        [
         "25",
         "2020-05-15"
        ],
        [
         "26",
         "2023-12-23"
        ],
        [
         "27",
         "2022-06-21"
        ],
        [
         "28",
         "2021-01-03"
        ],
        [
         "29",
         "2023-10-03"
        ],
        [
         "30",
         "2019-08-18"
        ],
        [
         "31",
         "2019-11-03"
        ],
        [
         "32",
         "2023-05-18"
        ],
        [
         "33",
         "2023-05-24"
        ],
        [
         "34",
         "2020-01-17"
        ],
        [
         "35",
         "2021-01-07"
        ],
        [
         "36",
         "2019-10-14"
        ],
        [
         "37",
         "2021-12-19"
        ],
        [
         "38",
         "2022-03-12"
        ],
        [
         "39",
         "2021-01-17"
        ],
        [
         "40",
         "2021-09-15"
        ],
        [
         "41",
         "2020-01-27"
        ],
        [
         "42",
         "2022-06-24"
        ],
        [
         "43",
         "2021-06-09"
        ],
        [
         "44",
         "2020-08-23"
        ],
        [
         "45",
         "2022-10-12"
        ],
        [
         "46",
         "2021-12-01"
        ],
        [
         "47",
         "2020-05-04"
        ],
        [
         "48",
         "2023-09-09"
        ],
        [
         "49",
         "2019-07-19"
        ]
       ],
       "shape": {
        "columns": 1,
        "rows": 54966
       }
      },
      "text/plain": [
       "0        2024-01-31\n",
       "1        2019-08-20\n",
       "2        2022-09-22\n",
       "3        2020-11-18\n",
       "4        2022-09-19\n",
       "            ...    \n",
       "55495    2020-08-16\n",
       "55496    2020-01-23\n",
       "55497    2020-07-13\n",
       "55498    2019-05-25\n",
       "55499    2024-04-02\n",
       "Name: Date of Admission, Length: 54966, dtype: object"
      ]
     },
     "execution_count": 36,
     "metadata": {},
     "output_type": "execute_result"
    }
   ],
   "source": [
    "df['Date of Admission']"
   ]
  },
  {
   "cell_type": "code",
   "execution_count": 37,
   "id": "0db0a357",
   "metadata": {},
   "outputs": [
    {
     "data": {
      "application/vnd.microsoft.datawrangler.viewer.v0+json": {
       "columns": [
        {
         "name": "index",
         "rawType": "int64",
         "type": "integer"
        },
        {
         "name": "Discharge Date",
         "rawType": "object",
         "type": "string"
        }
       ],
       "ref": "29f3e166-6073-4797-acd1-841f08c72292",
       "rows": [
        [
         "0",
         "2024-02-02"
        ],
        [
         "1",
         "2019-08-26"
        ],
        [
         "2",
         "2022-10-07"
        ],
        [
         "3",
         "2020-12-18"
        ],
        [
         "4",
         "2022-10-09"
        ],
        [
         "5",
         "2023-12-24"
        ],
        [
         "6",
         "2020-11-15"
        ],
        [
         "7",
         "2022-01-07"
        ],
        [
         "8",
         "2020-07-14"
        ],
        [
         "9",
         "2021-06-22"
        ],
        [
         "10",
         "2020-04-22"
        ],
        [
         "11",
         "2023-09-05"
        ],
        [
         "12",
         "2019-12-28"
        ],
        [
         "13",
         "2020-06-19"
        ],
        [
         "14",
         "2021-10-13"
        ],
        [
         "15",
         "2023-01-11"
        ],
        [
         "16",
         "2020-07-14"
        ],
        [
         "17",
         "2020-04-02"
        ],
        [
         "18",
         "2021-03-14"
        ],
        [
         "19",
         "2022-11-22"
        ],
        [
         "20",
         "2023-07-02"
        ],
        [
         "21",
         "2020-02-09"
        ],
        [
         "22",
         "2022-06-10"
        ],
        [
         "23",
         "2021-08-12"
        ],
        [
         "24",
         "2020-06-08"
        ],
        [
         "25",
         "2020-05-20"
        ],
        [
         "26",
         "2024-01-19"
        ],
        [
         "27",
         "2022-06-30"
        ],
        [
         "28",
         "2021-01-16"
        ],
        [
         "29",
         "2023-10-12"
        ],
        [
         "30",
         "2019-09-01"
        ],
        [
         "31",
         "2019-11-29"
        ],
        [
         "32",
         "2023-06-15"
        ],
        [
         "33",
         "2023-06-03"
        ],
        [
         "34",
         "2020-02-10"
        ],
        [
         "35",
         "2021-01-26"
        ],
        [
         "36",
         "2019-10-19"
        ],
        [
         "37",
         "2022-01-16"
        ],
        [
         "38",
         "2022-03-29"
        ],
        [
         "39",
         "2021-01-29"
        ],
        [
         "40",
         "2021-10-05"
        ],
        [
         "41",
         "2020-02-09"
        ],
        [
         "42",
         "2022-07-18"
        ],
        [
         "43",
         "2021-07-01"
        ],
        [
         "44",
         "2020-09-08"
        ],
        [
         "45",
         "2022-11-02"
        ],
        [
         "46",
         "2021-12-09"
        ],
        [
         "47",
         "2020-05-13"
        ],
        [
         "48",
         "2023-09-23"
        ],
        [
         "49",
         "2019-07-29"
        ]
       ],
       "shape": {
        "columns": 1,
        "rows": 54966
       }
      },
      "text/plain": [
       "0        2024-02-02\n",
       "1        2019-08-26\n",
       "2        2022-10-07\n",
       "3        2020-12-18\n",
       "4        2022-10-09\n",
       "            ...    \n",
       "55495    2020-09-15\n",
       "55496    2020-02-01\n",
       "55497    2020-08-10\n",
       "55498    2019-05-31\n",
       "55499    2024-04-29\n",
       "Name: Discharge Date, Length: 54966, dtype: object"
      ]
     },
     "execution_count": 37,
     "metadata": {},
     "output_type": "execute_result"
    }
   ],
   "source": [
    "df['Discharge Date']"
   ]
  },
  {
   "cell_type": "code",
   "execution_count": 38,
   "id": "60694e34",
   "metadata": {},
   "outputs": [
    {
     "data": {
      "text/plain": [
       "array(['2024-01-31', '2019-08-20', '2022-09-22', ..., '2019-05-31',\n",
       "       '2023-10-12', '2021-03-14'], shape=(1827,), dtype=object)"
      ]
     },
     "execution_count": 38,
     "metadata": {},
     "output_type": "execute_result"
    }
   ],
   "source": [
    "df['Date of Admission'].unique()"
   ]
  },
  {
   "cell_type": "code",
   "execution_count": 39,
   "id": "e075656b",
   "metadata": {},
   "outputs": [],
   "source": [
    "df['Date of Admission'] = pd.to_datetime(df['Date of Admission'])\n",
    "df['Discharge Date'] = pd.to_datetime(df['Discharge Date'])"
   ]
  },
  {
   "cell_type": "code",
   "execution_count": 40,
   "id": "93f0db96",
   "metadata": {},
   "outputs": [],
   "source": [
    "df.rename(columns={'Date of Admission': 'Admission Date'}, inplace=True)"
   ]
  },
  {
   "cell_type": "code",
   "execution_count": 41,
   "id": "ed387efa",
   "metadata": {},
   "outputs": [
    {
     "data": {
      "application/vnd.microsoft.datawrangler.viewer.v0+json": {
       "columns": [
        {
         "name": "index",
         "rawType": "int64",
         "type": "integer"
        },
        {
         "name": "Name",
         "rawType": "object",
         "type": "string"
        },
        {
         "name": "Age",
         "rawType": "int64",
         "type": "integer"
        },
        {
         "name": "Gender",
         "rawType": "int64",
         "type": "integer"
        },
        {
         "name": "Blood Type",
         "rawType": "object",
         "type": "string"
        },
        {
         "name": "Medical Condition",
         "rawType": "object",
         "type": "string"
        },
        {
         "name": "Admission Date",
         "rawType": "datetime64[ns]",
         "type": "datetime"
        },
        {
         "name": "Doctor",
         "rawType": "object",
         "type": "string"
        },
        {
         "name": "Hospital",
         "rawType": "object",
         "type": "string"
        },
        {
         "name": "Insurance Provider",
         "rawType": "object",
         "type": "string"
        },
        {
         "name": "Billing Amount",
         "rawType": "float64",
         "type": "float"
        },
        {
         "name": "Room Number",
         "rawType": "int64",
         "type": "integer"
        },
        {
         "name": "Admission Type",
         "rawType": "object",
         "type": "string"
        },
        {
         "name": "Discharge Date",
         "rawType": "datetime64[ns]",
         "type": "datetime"
        },
        {
         "name": "Medication",
         "rawType": "object",
         "type": "string"
        },
        {
         "name": "Test Results",
         "rawType": "object",
         "type": "string"
        }
       ],
       "ref": "82d464f3-8120-4452-9cba-02a725f52cae",
       "rows": [
        [
         "0",
         "Bobby Jackson",
         "30",
         "0",
         "B-",
         "Cancer",
         "2024-01-31 00:00:00",
         "Matthew Smith",
         "Sons and Miller",
         "Blue Cross",
         "18856.281305978155",
         "328",
         "Urgent",
         "2024-02-02 00:00:00",
         "Paracetamol",
         "Normal"
        ],
        [
         "1",
         "Leslie Terry",
         "62",
         "0",
         "A+",
         "Obesity",
         "2019-08-20 00:00:00",
         "Samantha Davies",
         "Kim Inc",
         "Medicare",
         "33643.327286577885",
         "265",
         "Emergency",
         "2019-08-26 00:00:00",
         "Ibuprofen",
         "Inconclusive"
        ],
        [
         "2",
         "Danny Smith",
         "76",
         "1",
         "A-",
         "Obesity",
         "2022-09-22 00:00:00",
         "Tiffany Mitchell",
         "Cook PLC",
         "Aetna",
         "27955.096078842456",
         "205",
         "Emergency",
         "2022-10-07 00:00:00",
         "Aspirin",
         "Normal"
        ],
        [
         "3",
         "Andrew Watts",
         "28",
         "1",
         "O+",
         "Diabetes",
         "2020-11-18 00:00:00",
         "Kevin Wells",
         "Hernandez Rogers and Vang,",
         "Medicare",
         "37909.78240987528",
         "450",
         "Elective",
         "2020-12-18 00:00:00",
         "Ibuprofen",
         "Abnormal"
        ],
        [
         "4",
         "Adrienne Bell",
         "43",
         "1",
         "AB+",
         "Cancer",
         "2022-09-19 00:00:00",
         "Kathleen Hanna",
         "White-White",
         "Aetna",
         "14238.317813937623",
         "458",
         "Urgent",
         "2022-10-09 00:00:00",
         "Penicillin",
         "Abnormal"
        ],
        [
         "5",
         "Emily Johnson",
         "36",
         "0",
         "A+",
         "Asthma",
         "2023-12-20 00:00:00",
         "Taylor Newton",
         "Nunez-Humphrey",
         "UnitedHealthcare",
         "48145.11095104189",
         "389",
         "Urgent",
         "2023-12-24 00:00:00",
         "Ibuprofen",
         "Normal"
        ],
        [
         "6",
         "Edward Edwards",
         "21",
         "1",
         "AB-",
         "Diabetes",
         "2020-11-03 00:00:00",
         "Kelly Olson",
         "Group Middleton",
         "Medicare",
         "19580.87234486093",
         "389",
         "Emergency",
         "2020-11-15 00:00:00",
         "Paracetamol",
         "Inconclusive"
        ],
        [
         "7",
         "Christina Martinez",
         "20",
         "1",
         "A+",
         "Cancer",
         "2021-12-28 00:00:00",
         "Suzanne Thomas",
         "Powell Robinson and Valdez,",
         "Cigna",
         "45820.46272159459",
         "277",
         "Emergency",
         "2022-01-07 00:00:00",
         "Paracetamol",
         "Inconclusive"
        ],
        [
         "8",
         "Jasmine Aguilar",
         "82",
         "0",
         "AB+",
         "Asthma",
         "2020-07-01 00:00:00",
         "Daniel Ferguson",
         "Sons Rich and",
         "Cigna",
         "50119.222791548505",
         "316",
         "Elective",
         "2020-07-14 00:00:00",
         "Aspirin",
         "Abnormal"
        ],
        [
         "9",
         "Christopher Berg",
         "58",
         "1",
         "AB-",
         "Cancer",
         "2021-05-23 00:00:00",
         "Heather Day",
         "Padilla-Walker",
         "UnitedHealthcare",
         "19784.63106221073",
         "249",
         "Elective",
         "2021-06-22 00:00:00",
         "Paracetamol",
         "Inconclusive"
        ],
        [
         "10",
         "Michelle Daniels",
         "72",
         "0",
         "O+",
         "Cancer",
         "2020-04-19 00:00:00",
         "John Duncan",
         "Schaefer-Porter",
         "Medicare",
         "12576.795609050234",
         "394",
         "Urgent",
         "2020-04-22 00:00:00",
         "Paracetamol",
         "Normal"
        ],
        [
         "11",
         "Aaron Martinez",
         "38",
         "1",
         "A-",
         "Hypertension",
         "2023-08-13 00:00:00",
         "Douglas Mayo",
         "Lyons-Blair",
         "Medicare",
         "7999.586879604188",
         "288",
         "Urgent",
         "2023-09-05 00:00:00",
         "Lipitor",
         "Inconclusive"
        ],
        [
         "12",
         "Connor Hansen",
         "75",
         "1",
         "A+",
         "Diabetes",
         "2019-12-12 00:00:00",
         "Kenneth Fletcher",
         "Powers Miller, and Flores",
         "Cigna",
         "43282.28335770435",
         "134",
         "Emergency",
         "2019-12-28 00:00:00",
         "Penicillin",
         "Abnormal"
        ],
        [
         "13",
         "Robert Bauer",
         "68",
         "1",
         "AB+",
         "Asthma",
         "2020-05-22 00:00:00",
         "Theresa Freeman",
         "Rivera-Gutierrez",
         "UnitedHealthcare",
         "33207.706633729606",
         "309",
         "Urgent",
         "2020-06-19 00:00:00",
         "Lipitor",
         "Normal"
        ],
        [
         "14",
         "Brooke Brady",
         "44",
         "1",
         "AB+",
         "Cancer",
         "2021-10-08 00:00:00",
         "Roberta Stewart",
         "Morris-Arellano",
         "UnitedHealthcare",
         "40701.599227308754",
         "182",
         "Urgent",
         "2021-10-13 00:00:00",
         "Paracetamol",
         "Normal"
        ],
        [
         "15",
         "Ms. Natalie Gamble",
         "46",
         "1",
         "AB-",
         "Obesity",
         "2023-01-01 00:00:00",
         "Maria Dougherty",
         "Cline-Williams",
         "Blue Cross",
         "12263.357425021362",
         "465",
         "Elective",
         "2023-01-11 00:00:00",
         "Aspirin",
         "Inconclusive"
        ],
        [
         "16",
         "Haley Perkins",
         "63",
         "1",
         "A+",
         "Arthritis",
         "2020-06-23 00:00:00",
         "Erica Spencer",
         "Cervantes-Wells",
         "UnitedHealthcare",
         "24499.847903736576",
         "114",
         "Elective",
         "2020-07-14 00:00:00",
         "Paracetamol",
         "Normal"
        ],
        [
         "17",
         "Mrs. Jamie Campbell",
         "38",
         "0",
         "AB-",
         "Obesity",
         "2020-03-08 00:00:00",
         "Justin Kim",
         "Torres, and Harrison Jones",
         "Cigna",
         "17440.465444124675",
         "449",
         "Urgent",
         "2020-04-02 00:00:00",
         "Paracetamol",
         "Abnormal"
        ],
        [
         "18",
         "Luke Burgess",
         "34",
         "1",
         "A-",
         "Hypertension",
         "2021-03-04 00:00:00",
         "Justin Moore Jr.",
         "Houston PLC",
         "Blue Cross",
         "18843.02301783416",
         "260",
         "Elective",
         "2021-03-14 00:00:00",
         "Aspirin",
         "Abnormal"
        ],
        [
         "19",
         "Daniel Schmidt",
         "63",
         "0",
         "B+",
         "Asthma",
         "2022-11-15 00:00:00",
         "Denise Galloway",
         "Hammond Ltd",
         "Cigna",
         "23762.203579059587",
         "465",
         "Elective",
         "2022-11-22 00:00:00",
         "Penicillin",
         "Normal"
        ],
        [
         "20",
         "Timothy Burns",
         "67",
         "1",
         "A-",
         "Asthma",
         "2023-06-28 00:00:00",
         "Krista Smith",
         "Jones LLC",
         "Blue Cross",
         "42.5145885533243",
         "115",
         "Elective",
         "2023-07-02 00:00:00",
         "Aspirin",
         "Normal"
        ],
        [
         "21",
         "Christopher Bright",
         "48",
         "0",
         "B+",
         "Asthma",
         "2020-01-21 00:00:00",
         "Gregory Smith",
         "Williams-Davis",
         "Aetna",
         "17695.911622343818",
         "295",
         "Urgent",
         "2020-02-09 00:00:00",
         "Lipitor",
         "Normal"
        ],
        [
         "22",
         "Kathryn Stewart",
         "58",
         "1",
         "O+",
         "Arthritis",
         "2022-05-12 00:00:00",
         "Vanessa Newton",
         "Clark-Mayo",
         "Aetna",
         "5998.10290819591",
         "327",
         "Urgent",
         "2022-06-10 00:00:00",
         "Lipitor",
         "Inconclusive"
        ],
        [
         "23",
         "Dr. Eileen Thompson",
         "59",
         "0",
         "A+",
         "Asthma",
         "2021-08-02 00:00:00",
         "Donna Martinez MD",
         "and Sons Smith",
         "Aetna",
         "25250.05242821613",
         "119",
         "Urgent",
         "2021-08-12 00:00:00",
         "Lipitor",
         "Inconclusive"
        ],
        [
         "24",
         "Paul Henderson",
         "72",
         "1",
         "AB+",
         "Hypertension",
         "2020-05-15 00:00:00",
         "Stephanie Kramer",
         "Wilson Group",
         "Medicare",
         "33211.29541901202",
         "109",
         "Emergency",
         "2020-06-08 00:00:00",
         "Paracetamol",
         "Inconclusive"
        ],
        [
         "25",
         "Peter Fitzgerald",
         "73",
         "0",
         "AB+",
         "Obesity",
         "2020-05-15 00:00:00",
         "Angela Contreras",
         "Garner-Bowman",
         "Medicare",
         "19746.83200760437",
         "162",
         "Urgent",
         "2020-05-20 00:00:00",
         "Aspirin",
         "Abnormal"
        ],
        [
         "26",
         "Cathy Small",
         "51",
         "1",
         "O-",
         "Asthma",
         "2023-12-23 00:00:00",
         "Wendy Glenn",
         "Brown, and Jones Weaver",
         "Blue Cross",
         "26786.52955531129",
         "401",
         "Elective",
         "2024-01-19 00:00:00",
         "Ibuprofen",
         "Normal"
        ],
        [
         "27",
         "Mr. Kenneth Moore",
         "34",
         "1",
         "A+",
         "Diabetes",
         "2022-06-21 00:00:00",
         "James Ellis",
         "Serrano-Dixon",
         "UnitedHealthcare",
         "18834.80134117836",
         "157",
         "Emergency",
         "2022-06-30 00:00:00",
         "Lipitor",
         "Abnormal"
        ],
        [
         "28",
         "Mary Hunter",
         "38",
         "1",
         "O-",
         "Hypertension",
         "2021-01-03 00:00:00",
         "Jared Bruce Jr.",
         "Gardner-Miller",
         "Cigna",
         "32643.299353277187",
         "223",
         "Emergency",
         "2021-01-16 00:00:00",
         "Penicillin",
         "Normal"
        ],
        [
         "29",
         "Joshua Oliver",
         "63",
         "1",
         "B+",
         "Hypertension",
         "2023-10-03 00:00:00",
         "Brandy Mitchell",
         "Guerrero-Boone",
         "Aetna",
         "5767.011053816016",
         "293",
         "Elective",
         "2023-10-12 00:00:00",
         "Paracetamol",
         "Abnormal"
        ],
        [
         "30",
         "Thomas Martinez",
         "34",
         "0",
         "B-",
         "Asthma",
         "2019-08-18 00:00:00",
         "Jacob Huynh",
         "Hart Ltd",
         "Cigna",
         "47909.12880987492",
         "371",
         "Urgent",
         "2019-09-01 00:00:00",
         "Ibuprofen",
         "Inconclusive"
        ],
        [
         "31",
         "James Patterson",
         "23",
         "1",
         "A+",
         "Arthritis",
         "2019-11-03 00:00:00",
         "Kristina Frazier",
         "Cruz-Santiago",
         "UnitedHealthcare",
         "25835.323594688223",
         "108",
         "Urgent",
         "2019-11-29 00:00:00",
         "Penicillin",
         "Abnormal"
        ],
        [
         "32",
         "William Cooper",
         "78",
         "0",
         "AB-",
         "Arthritis",
         "2023-05-18 00:00:00",
         "John Hartman",
         "Group Duncan",
         "Medicare",
         "17993.226200015546",
         "245",
         "Elective",
         "2023-06-15 00:00:00",
         "Penicillin",
         "Normal"
        ],
        [
         "33",
         "Erin Ortega",
         "43",
         "0",
         "AB-",
         "Cancer",
         "2023-05-24 00:00:00",
         "Heather Garcia",
         "Lopez-Phillips",
         "Medicare",
         "21185.953530394218",
         "494",
         "Elective",
         "2023-06-03 00:00:00",
         "Ibuprofen",
         "Normal"
        ],
        [
         "34",
         "Nicole Rodriguez",
         "30",
         "1",
         "AB+",
         "Diabetes",
         "2020-01-17 00:00:00",
         "Lynn Young",
         "Poole Inc",
         "Blue Cross",
         "8408.94935429195",
         "285",
         "Emergency",
         "2020-02-10 00:00:00",
         "Lipitor",
         "Normal"
        ],
        [
         "35",
         "David Anderson",
         "25",
         "1",
         "AB+",
         "Asthma",
         "2021-01-07 00:00:00",
         "Emma Allison",
         "Sons and Cox",
         "Medicare",
         "45453.41854566515",
         "228",
         "Elective",
         "2021-01-26 00:00:00",
         "Lipitor",
         "Abnormal"
        ],
        [
         "36",
         "Denise Torres",
         "33",
         "0",
         "AB+",
         "Diabetes",
         "2019-10-14 00:00:00",
         "Laura Myers",
         "LLC Martin",
         "Aetna",
         "4397.776995413336",
         "481",
         "Urgent",
         "2019-10-19 00:00:00",
         "Paracetamol",
         "Inconclusive"
        ],
        [
         "37",
         "Cassandra Robinson",
         "26",
         "1",
         "B-",
         "Hypertension",
         "2021-12-19 00:00:00",
         "Travis Parsons",
         "Espinoza-Stone",
         "Aetna",
         "9380.325967528432",
         "212",
         "Urgent",
         "2022-01-16 00:00:00",
         "Ibuprofen",
         "Normal"
        ],
        [
         "38",
         "Nicole Lucero",
         "70",
         "1",
         "O-",
         "Diabetes",
         "2022-03-12 00:00:00",
         "Christine Johnson",
         "and Garcia Morris Cunningham,",
         "Cigna",
         "48290.69340736419",
         "113",
         "Emergency",
         "2022-03-29 00:00:00",
         "Lipitor",
         "Abnormal"
        ],
        [
         "39",
         "Pamela Fernandez",
         "57",
         "1",
         "B-",
         "Obesity",
         "2021-01-17 00:00:00",
         "Emily Taylor",
         "Walton-Meyer",
         "Medicare",
         "32973.94083296627",
         "272",
         "Urgent",
         "2021-01-29 00:00:00",
         "Penicillin",
         "Abnormal"
        ],
        [
         "40",
         "Christopher Lee",
         "74",
         "1",
         "B-",
         "Hypertension",
         "2021-09-15 00:00:00",
         "William Reynolds",
         "PLC Young",
         "Cigna",
         "49943.27849878726",
         "478",
         "Emergency",
         "2021-10-05 00:00:00",
         "Lipitor",
         "Normal"
        ],
        [
         "41",
         "Thomas Morse",
         "81",
         "0",
         "A+",
         "Hypertension",
         "2020-01-27 00:00:00",
         "Jennifer Carter",
         "Meadows Group",
         "Cigna",
         "35633.95545438785",
         "196",
         "Urgent",
         "2020-02-09 00:00:00",
         "Aspirin",
         "Normal"
        ],
        [
         "42",
         "Mr. Eric Lane",
         "49",
         "1",
         "A-",
         "Asthma",
         "2022-06-24 00:00:00",
         "Matthew Thomas",
         "and Howell Brooks, Rogers",
         "Cigna",
         "25966.328610220968",
         "418",
         "Elective",
         "2022-07-18 00:00:00",
         "Paracetamol",
         "Normal"
        ],
        [
         "43",
         "Katherine Smith",
         "26",
         "1",
         "AB+",
         "Obesity",
         "2021-06-09 00:00:00",
         "Mary Logan",
         "and Mcclure White Boone,",
         "UnitedHealthcare",
         "21784.44507072369",
         "410",
         "Urgent",
         "2021-07-01 00:00:00",
         "Paracetamol",
         "Normal"
        ],
        [
         "44",
         "Paul Williams",
         "81",
         "1",
         "AB-",
         "Cancer",
         "2020-08-23 00:00:00",
         "Kristin Martinez",
         "Gates Brown, and Stuart",
         "Medicare",
         "42684.55888455027",
         "328",
         "Urgent",
         "2020-09-08 00:00:00",
         "Penicillin",
         "Abnormal"
        ],
        [
         "45",
         "Lynn Martinez",
         "65",
         "0",
         "O+",
         "Cancer",
         "2022-10-12 00:00:00",
         "Daniel Murphy",
         "Group Armstrong",
         "Medicare",
         "45585.8865599394",
         "300",
         "Emergency",
         "2022-11-02 00:00:00",
         "Penicillin",
         "Normal"
        ],
        [
         "46",
         "Christopher Chapman",
         "31",
         "1",
         "O+",
         "Hypertension",
         "2021-12-01 00:00:00",
         "Emily Patterson",
         "Ltd Schwartz",
         "Cigna",
         "29615.441863646167",
         "211",
         "Elective",
         "2021-12-09 00:00:00",
         "Paracetamol",
         "Normal"
        ],
        [
         "47",
         "Chris Frye",
         "58",
         "0",
         "A-",
         "Diabetes",
         "2020-05-04 00:00:00",
         "Heather Smith",
         "Nelson-Phillips",
         "Cigna",
         "36992.27368828386",
         "413",
         "Urgent",
         "2020-05-13 00:00:00",
         "Aspirin",
         "Normal"
        ],
        [
         "48",
         "Kyle Bennett",
         "22",
         "0",
         "O+",
         "Hypertension",
         "2023-09-09 00:00:00",
         "John Smith",
         "Knight and Nguyen, Riggs",
         "UnitedHealthcare",
         "28051.499483946325",
         "157",
         "Urgent",
         "2023-09-23 00:00:00",
         "Ibuprofen",
         "Abnormal"
        ],
        [
         "49",
         "Brandon Collins",
         "77",
         "1",
         "O+",
         "Asthma",
         "2019-07-19 00:00:00",
         "Cameron Young",
         "Lopez PLC",
         "Cigna",
         "16320.232447271888",
         "138",
         "Urgent",
         "2019-07-29 00:00:00",
         "Ibuprofen",
         "Abnormal"
        ]
       ],
       "shape": {
        "columns": 15,
        "rows": 54966
       }
      },
      "text/html": [
       "<div>\n",
       "<style scoped>\n",
       "    .dataframe tbody tr th:only-of-type {\n",
       "        vertical-align: middle;\n",
       "    }\n",
       "\n",
       "    .dataframe tbody tr th {\n",
       "        vertical-align: top;\n",
       "    }\n",
       "\n",
       "    .dataframe thead th {\n",
       "        text-align: right;\n",
       "    }\n",
       "</style>\n",
       "<table border=\"1\" class=\"dataframe\">\n",
       "  <thead>\n",
       "    <tr style=\"text-align: right;\">\n",
       "      <th></th>\n",
       "      <th>Name</th>\n",
       "      <th>Age</th>\n",
       "      <th>Gender</th>\n",
       "      <th>Blood Type</th>\n",
       "      <th>Medical Condition</th>\n",
       "      <th>Admission Date</th>\n",
       "      <th>Doctor</th>\n",
       "      <th>Hospital</th>\n",
       "      <th>Insurance Provider</th>\n",
       "      <th>Billing Amount</th>\n",
       "      <th>Room Number</th>\n",
       "      <th>Admission Type</th>\n",
       "      <th>Discharge Date</th>\n",
       "      <th>Medication</th>\n",
       "      <th>Test Results</th>\n",
       "    </tr>\n",
       "  </thead>\n",
       "  <tbody>\n",
       "    <tr>\n",
       "      <th>0</th>\n",
       "      <td>Bobby Jackson</td>\n",
       "      <td>30</td>\n",
       "      <td>0</td>\n",
       "      <td>B-</td>\n",
       "      <td>Cancer</td>\n",
       "      <td>2024-01-31</td>\n",
       "      <td>Matthew Smith</td>\n",
       "      <td>Sons and Miller</td>\n",
       "      <td>Blue Cross</td>\n",
       "      <td>18856.281306</td>\n",
       "      <td>328</td>\n",
       "      <td>Urgent</td>\n",
       "      <td>2024-02-02</td>\n",
       "      <td>Paracetamol</td>\n",
       "      <td>Normal</td>\n",
       "    </tr>\n",
       "    <tr>\n",
       "      <th>1</th>\n",
       "      <td>Leslie Terry</td>\n",
       "      <td>62</td>\n",
       "      <td>0</td>\n",
       "      <td>A+</td>\n",
       "      <td>Obesity</td>\n",
       "      <td>2019-08-20</td>\n",
       "      <td>Samantha Davies</td>\n",
       "      <td>Kim Inc</td>\n",
       "      <td>Medicare</td>\n",
       "      <td>33643.327287</td>\n",
       "      <td>265</td>\n",
       "      <td>Emergency</td>\n",
       "      <td>2019-08-26</td>\n",
       "      <td>Ibuprofen</td>\n",
       "      <td>Inconclusive</td>\n",
       "    </tr>\n",
       "    <tr>\n",
       "      <th>2</th>\n",
       "      <td>Danny Smith</td>\n",
       "      <td>76</td>\n",
       "      <td>1</td>\n",
       "      <td>A-</td>\n",
       "      <td>Obesity</td>\n",
       "      <td>2022-09-22</td>\n",
       "      <td>Tiffany Mitchell</td>\n",
       "      <td>Cook PLC</td>\n",
       "      <td>Aetna</td>\n",
       "      <td>27955.096079</td>\n",
       "      <td>205</td>\n",
       "      <td>Emergency</td>\n",
       "      <td>2022-10-07</td>\n",
       "      <td>Aspirin</td>\n",
       "      <td>Normal</td>\n",
       "    </tr>\n",
       "    <tr>\n",
       "      <th>3</th>\n",
       "      <td>Andrew Watts</td>\n",
       "      <td>28</td>\n",
       "      <td>1</td>\n",
       "      <td>O+</td>\n",
       "      <td>Diabetes</td>\n",
       "      <td>2020-11-18</td>\n",
       "      <td>Kevin Wells</td>\n",
       "      <td>Hernandez Rogers and Vang,</td>\n",
       "      <td>Medicare</td>\n",
       "      <td>37909.782410</td>\n",
       "      <td>450</td>\n",
       "      <td>Elective</td>\n",
       "      <td>2020-12-18</td>\n",
       "      <td>Ibuprofen</td>\n",
       "      <td>Abnormal</td>\n",
       "    </tr>\n",
       "    <tr>\n",
       "      <th>4</th>\n",
       "      <td>Adrienne Bell</td>\n",
       "      <td>43</td>\n",
       "      <td>1</td>\n",
       "      <td>AB+</td>\n",
       "      <td>Cancer</td>\n",
       "      <td>2022-09-19</td>\n",
       "      <td>Kathleen Hanna</td>\n",
       "      <td>White-White</td>\n",
       "      <td>Aetna</td>\n",
       "      <td>14238.317814</td>\n",
       "      <td>458</td>\n",
       "      <td>Urgent</td>\n",
       "      <td>2022-10-09</td>\n",
       "      <td>Penicillin</td>\n",
       "      <td>Abnormal</td>\n",
       "    </tr>\n",
       "    <tr>\n",
       "      <th>...</th>\n",
       "      <td>...</td>\n",
       "      <td>...</td>\n",
       "      <td>...</td>\n",
       "      <td>...</td>\n",
       "      <td>...</td>\n",
       "      <td>...</td>\n",
       "      <td>...</td>\n",
       "      <td>...</td>\n",
       "      <td>...</td>\n",
       "      <td>...</td>\n",
       "      <td>...</td>\n",
       "      <td>...</td>\n",
       "      <td>...</td>\n",
       "      <td>...</td>\n",
       "      <td>...</td>\n",
       "    </tr>\n",
       "    <tr>\n",
       "      <th>55495</th>\n",
       "      <td>Elizabeth Jackson</td>\n",
       "      <td>42</td>\n",
       "      <td>1</td>\n",
       "      <td>O+</td>\n",
       "      <td>Asthma</td>\n",
       "      <td>2020-08-16</td>\n",
       "      <td>Joshua Jarvis</td>\n",
       "      <td>Jones-Thompson</td>\n",
       "      <td>Blue Cross</td>\n",
       "      <td>2650.714952</td>\n",
       "      <td>417</td>\n",
       "      <td>Elective</td>\n",
       "      <td>2020-09-15</td>\n",
       "      <td>Penicillin</td>\n",
       "      <td>Abnormal</td>\n",
       "    </tr>\n",
       "    <tr>\n",
       "      <th>55496</th>\n",
       "      <td>Kyle Perez</td>\n",
       "      <td>61</td>\n",
       "      <td>1</td>\n",
       "      <td>AB-</td>\n",
       "      <td>Obesity</td>\n",
       "      <td>2020-01-23</td>\n",
       "      <td>Taylor Sullivan</td>\n",
       "      <td>Tucker-Moyer</td>\n",
       "      <td>Cigna</td>\n",
       "      <td>31457.797307</td>\n",
       "      <td>316</td>\n",
       "      <td>Elective</td>\n",
       "      <td>2020-02-01</td>\n",
       "      <td>Aspirin</td>\n",
       "      <td>Normal</td>\n",
       "    </tr>\n",
       "    <tr>\n",
       "      <th>55497</th>\n",
       "      <td>Heather Wang</td>\n",
       "      <td>38</td>\n",
       "      <td>1</td>\n",
       "      <td>B+</td>\n",
       "      <td>Hypertension</td>\n",
       "      <td>2020-07-13</td>\n",
       "      <td>Joe Jacobs DVM</td>\n",
       "      <td>and Mahoney Johnson Vasquez,</td>\n",
       "      <td>UnitedHealthcare</td>\n",
       "      <td>27620.764717</td>\n",
       "      <td>347</td>\n",
       "      <td>Urgent</td>\n",
       "      <td>2020-08-10</td>\n",
       "      <td>Ibuprofen</td>\n",
       "      <td>Abnormal</td>\n",
       "    </tr>\n",
       "    <tr>\n",
       "      <th>55498</th>\n",
       "      <td>Jennifer Jones</td>\n",
       "      <td>43</td>\n",
       "      <td>0</td>\n",
       "      <td>O-</td>\n",
       "      <td>Arthritis</td>\n",
       "      <td>2019-05-25</td>\n",
       "      <td>Kimberly Curry</td>\n",
       "      <td>Jackson Todd and Castro,</td>\n",
       "      <td>Medicare</td>\n",
       "      <td>32451.092358</td>\n",
       "      <td>321</td>\n",
       "      <td>Elective</td>\n",
       "      <td>2019-05-31</td>\n",
       "      <td>Ibuprofen</td>\n",
       "      <td>Abnormal</td>\n",
       "    </tr>\n",
       "    <tr>\n",
       "      <th>55499</th>\n",
       "      <td>James Garcia</td>\n",
       "      <td>53</td>\n",
       "      <td>1</td>\n",
       "      <td>O+</td>\n",
       "      <td>Arthritis</td>\n",
       "      <td>2024-04-02</td>\n",
       "      <td>Dennis Warren</td>\n",
       "      <td>Henry Sons and</td>\n",
       "      <td>Aetna</td>\n",
       "      <td>4010.134172</td>\n",
       "      <td>448</td>\n",
       "      <td>Urgent</td>\n",
       "      <td>2024-04-29</td>\n",
       "      <td>Ibuprofen</td>\n",
       "      <td>Abnormal</td>\n",
       "    </tr>\n",
       "  </tbody>\n",
       "</table>\n",
       "<p>54966 rows × 15 columns</p>\n",
       "</div>"
      ],
      "text/plain": [
       "                    Name  Age  Gender Blood Type Medical Condition  \\\n",
       "0          Bobby Jackson   30       0         B-            Cancer   \n",
       "1           Leslie Terry   62       0         A+           Obesity   \n",
       "2            Danny Smith   76       1         A-           Obesity   \n",
       "3           Andrew Watts   28       1         O+          Diabetes   \n",
       "4          Adrienne Bell   43       1        AB+            Cancer   \n",
       "...                  ...  ...     ...        ...               ...   \n",
       "55495  Elizabeth Jackson   42       1         O+            Asthma   \n",
       "55496         Kyle Perez   61       1        AB-           Obesity   \n",
       "55497       Heather Wang   38       1         B+      Hypertension   \n",
       "55498     Jennifer Jones   43       0         O-         Arthritis   \n",
       "55499       James Garcia   53       1         O+         Arthritis   \n",
       "\n",
       "      Admission Date            Doctor                      Hospital  \\\n",
       "0         2024-01-31     Matthew Smith               Sons and Miller   \n",
       "1         2019-08-20   Samantha Davies                       Kim Inc   \n",
       "2         2022-09-22  Tiffany Mitchell                      Cook PLC   \n",
       "3         2020-11-18       Kevin Wells    Hernandez Rogers and Vang,   \n",
       "4         2022-09-19    Kathleen Hanna                   White-White   \n",
       "...              ...               ...                           ...   \n",
       "55495     2020-08-16     Joshua Jarvis                Jones-Thompson   \n",
       "55496     2020-01-23   Taylor Sullivan                  Tucker-Moyer   \n",
       "55497     2020-07-13    Joe Jacobs DVM  and Mahoney Johnson Vasquez,   \n",
       "55498     2019-05-25    Kimberly Curry      Jackson Todd and Castro,   \n",
       "55499     2024-04-02     Dennis Warren                Henry Sons and   \n",
       "\n",
       "      Insurance Provider  Billing Amount  Room Number Admission Type  \\\n",
       "0             Blue Cross    18856.281306          328         Urgent   \n",
       "1               Medicare    33643.327287          265      Emergency   \n",
       "2                  Aetna    27955.096079          205      Emergency   \n",
       "3               Medicare    37909.782410          450       Elective   \n",
       "4                  Aetna    14238.317814          458         Urgent   \n",
       "...                  ...             ...          ...            ...   \n",
       "55495         Blue Cross     2650.714952          417       Elective   \n",
       "55496              Cigna    31457.797307          316       Elective   \n",
       "55497   UnitedHealthcare    27620.764717          347         Urgent   \n",
       "55498           Medicare    32451.092358          321       Elective   \n",
       "55499              Aetna     4010.134172          448         Urgent   \n",
       "\n",
       "      Discharge Date   Medication  Test Results  \n",
       "0         2024-02-02  Paracetamol        Normal  \n",
       "1         2019-08-26    Ibuprofen  Inconclusive  \n",
       "2         2022-10-07      Aspirin        Normal  \n",
       "3         2020-12-18    Ibuprofen      Abnormal  \n",
       "4         2022-10-09   Penicillin      Abnormal  \n",
       "...              ...          ...           ...  \n",
       "55495     2020-09-15   Penicillin      Abnormal  \n",
       "55496     2020-02-01      Aspirin        Normal  \n",
       "55497     2020-08-10    Ibuprofen      Abnormal  \n",
       "55498     2019-05-31    Ibuprofen      Abnormal  \n",
       "55499     2024-04-29    Ibuprofen      Abnormal  \n",
       "\n",
       "[54966 rows x 15 columns]"
      ]
     },
     "execution_count": 41,
     "metadata": {},
     "output_type": "execute_result"
    }
   ],
   "source": [
    "df"
   ]
  },
  {
   "cell_type": "code",
   "execution_count": 42,
   "id": "e2dfc96e",
   "metadata": {},
   "outputs": [
    {
     "data": {
      "image/png": "[encoded data removed]",
      "text/plain": [
       "<Figure size 640x480 with 1 Axes>"
      ]
     },
     "metadata": {},
     "output_type": "display_data"
    }
   ],
   "source": [
    "df['Billing Amount'].groupby(df['Medical Condition']).mean().plot(kind='bar', color='orange')\n",
    "plt.title('Average Billing Amount by Medical Condition')\n",
    "plt.xlabel('Medical Condition')\n",
    "plt.ylabel('Average Billing Amount')\n",
    "plt.show()"
   ]
  },
  {
   "cell_type": "code",
   "execution_count": 43,
   "id": "b9349bd8",
   "metadata": {},
   "outputs": [
    {
     "data": {
      "image/png": "[encoded data removed]",
      "text/plain": [
       "<Figure size 640x480 with 1 Axes>"
      ]
     },
     "metadata": {},
     "output_type": "display_data"
    }
   ],
   "source": [
    "df['Billing Amount'].groupby(df['Test Results']).mean().plot(kind='bar', color='orange')\n",
    "plt.title('Average Billing Amount by Test Results')\n",
    "plt.xlabel('Test Results')\n",
    "plt.ylabel('Average Billing Amount')\n",
    "plt.show()"
   ]
  },
  {
   "cell_type": "code",
   "execution_count": 44,
   "id": "0ae4d2f6",
   "metadata": {},
   "outputs": [
    {
     "data": {
      "application/vnd.microsoft.datawrangler.viewer.v0+json": {
       "columns": [
        {
         "name": "index",
         "rawType": "int64",
         "type": "integer"
        },
        {
         "name": "Doctor",
         "rawType": "object",
         "type": "string"
        }
       ],
       "ref": "93a77e20-62f1-4acb-b61e-8bcc970d4988",
       "rows": [
        [
         "0",
         "Matthew Smith"
        ],
        [
         "1",
         "Samantha Davies"
        ],
        [
         "2",
         "Tiffany Mitchell"
        ],
        [
         "3",
         "Kevin Wells"
        ],
        [
         "4",
         "Kathleen Hanna"
        ],
        [
         "5",
         "Taylor Newton"
        ],
        [
         "6",
         "Kelly Olson"
        ],
        [
         "7",
         "Suzanne Thomas"
        ],
        [
         "8",
         "Daniel Ferguson"
        ],
        [
         "9",
         "Heather Day"
        ],
        [
         "10",
         "John Duncan"
        ],
        [
         "11",
         "Douglas Mayo"
        ],
        [
         "12",
         "Kenneth Fletcher"
        ],
        [
         "13",
         "Theresa Freeman"
        ],
        [
         "14",
         "Roberta Stewart"
        ],
        [
         "15",
         "Maria Dougherty"
        ],
        [
         "16",
         "Erica Spencer"
        ],
        [
         "17",
         "Justin Kim"
        ],
        [
         "18",
         "Justin Moore Jr."
        ],
        [
         "19",
         "Denise Galloway"
        ],
        [
         "20",
         "Krista Smith"
        ],
        [
         "21",
         "Gregory Smith"
        ],
        [
         "22",
         "Vanessa Newton"
        ],
        [
         "23",
         "Donna Martinez Md"
        ],
        [
         "24",
         "Stephanie Kramer"
        ],
        [
         "25",
         "Angela Contreras"
        ],
        [
         "26",
         "Wendy Glenn"
        ],
        [
         "27",
         "James Ellis"
        ],
        [
         "28",
         "Jared Bruce Jr."
        ],
        [
         "29",
         "Brandy Mitchell"
        ],
        [
         "30",
         "Jacob Huynh"
        ],
        [
         "31",
         "Kristina Frazier"
        ],
        [
         "32",
         "John Hartman"
        ],
        [
         "33",
         "Heather Garcia"
        ],
        [
         "34",
         "Lynn Young"
        ],
        [
         "35",
         "Emma Allison"
        ],
        [
         "36",
         "Laura Myers"
        ],
        [
         "37",
         "Travis Parsons"
        ],
        [
         "38",
         "Christine Johnson"
        ],
        [
         "39",
         "Emily Taylor"
        ],
        [
         "40",
         "William Reynolds"
        ],
        [
         "41",
         "Jennifer Carter"
        ],
        [
         "42",
         "Matthew Thomas"
        ],
        [
         "43",
         "Mary Logan"
        ],
        [
         "44",
         "Kristin Martinez"
        ],
        [
         "45",
         "Daniel Murphy"
        ],
        [
         "46",
         "Emily Patterson"
        ],
        [
         "47",
         "Heather Smith"
        ],
        [
         "48",
         "John Smith"
        ],
        [
         "49",
         "Cameron Young"
        ]
       ],
       "shape": {
        "columns": 1,
        "rows": 54966
       }
      },
      "text/plain": [
       "0           Matthew Smith\n",
       "1         Samantha Davies\n",
       "2        Tiffany Mitchell\n",
       "3             Kevin Wells\n",
       "4          Kathleen Hanna\n",
       "               ...       \n",
       "55495       Joshua Jarvis\n",
       "55496     Taylor Sullivan\n",
       "55497      Joe Jacobs Dvm\n",
       "55498      Kimberly Curry\n",
       "55499       Dennis Warren\n",
       "Name: Doctor, Length: 54966, dtype: object"
      ]
     },
     "execution_count": 44,
     "metadata": {},
     "output_type": "execute_result"
    }
   ],
   "source": [
    "df['Doctor'] = df['Doctor'].str.title()\n",
    "df['Doctor']"
   ]
  },
  {
   "cell_type": "code",
   "execution_count": 45,
   "id": "37b9e36c",
   "metadata": {},
   "outputs": [],
   "source": [
    "df.rename(columns={'Doctor': 'Attending Doctor'}, inplace=True)"
   ]
  },
  {
   "cell_type": "code",
   "execution_count": 46,
   "id": "1be2c0a7",
   "metadata": {},
   "outputs": [
    {
     "data": {
      "text/plain": [
       "array(['Matthew Smith', 'Samantha Davies', 'Tiffany Mitchell', ...,\n",
       "       'Deborah Sutton', 'Mary Bartlett', 'Alec May'],\n",
       "      shape=(40341,), dtype=object)"
      ]
     },
     "execution_count": 46,
     "metadata": {},
     "output_type": "execute_result"
    }
   ],
   "source": [
    "df['Attending Doctor'].unique()"
   ]
  },
  {
   "cell_type": "code",
   "execution_count": 47,
   "id": "fb417063",
   "metadata": {},
   "outputs": [
    {
     "data": {
      "text/plain": [
       "array(['Sons and Miller', 'Kim Inc', 'Cook PLC', ...,\n",
       "       'Guzman Jones and Graves,', 'and Williams, Brown Mckenzie',\n",
       "       'Moreno Murphy, Griffith and'], shape=(39876,), dtype=object)"
      ]
     },
     "execution_count": 47,
     "metadata": {},
     "output_type": "execute_result"
    }
   ],
   "source": [
    "df['Hospital'].unique()"
   ]
  },
  {
   "cell_type": "code",
   "execution_count": 48,
   "id": "a1fa2a81",
   "metadata": {},
   "outputs": [
    {
     "data": {
      "text/plain": [
       "array(['Blue Cross', 'Medicare', 'Aetna', 'UnitedHealthcare', 'Cigna'],\n",
       "      dtype=object)"
      ]
     },
     "execution_count": 48,
     "metadata": {},
     "output_type": "execute_result"
    }
   ],
   "source": [
    "df['Insurance Provider'].unique()"
   ]
  },
  {
   "cell_type": "code",
   "execution_count": 49,
   "id": "38ca9243",
   "metadata": {},
   "outputs": [
    {
     "data": {
      "application/vnd.microsoft.datawrangler.viewer.v0+json": {
       "columns": [
        {
         "name": "Insurance Provider",
         "rawType": "object",
         "type": "string"
        },
        {
         "name": "count",
         "rawType": "int64",
         "type": "integer"
        }
       ],
       "ref": "80e26c1d-44ca-4205-8823-2395de32e3a8",
       "rows": [
        [
         "Cigna",
         "11139"
        ],
        [
         "Medicare",
         "11039"
        ],
        [
         "UnitedHealthcare",
         "11014"
        ],
        [
         "Blue Cross",
         "10952"
        ],
        [
         "Aetna",
         "10822"
        ]
       ],
       "shape": {
        "columns": 1,
        "rows": 5
       }
      },
      "text/plain": [
       "Insurance Provider\n",
       "Cigna               11139\n",
       "Medicare            11039\n",
       "UnitedHealthcare    11014\n",
       "Blue Cross          10952\n",
       "Aetna               10822\n",
       "Name: count, dtype: int64"
      ]
     },
     "execution_count": 49,
     "metadata": {},
     "output_type": "execute_result"
    }
   ],
   "source": [
    "df['Insurance Provider'].value_counts()"
   ]
  },
  {
   "cell_type": "code",
   "execution_count": 50,
   "id": "b9e5bceb",
   "metadata": {},
   "outputs": [
    {
     "data": {
      "image/png": "[encoded data removed]",
      "text/plain": [
       "<Figure size 640x480 with 1 Axes>"
      ]
     },
     "metadata": {},
     "output_type": "display_data"
    }
   ],
   "source": [
    "df['Insurance Provider'].value_counts().plot(kind='bar', color='purple')\n",
    "plt.title('Distribution of Insurance Providers')   \n",
    "plt.xlabel('Insurance Provider')\n",
    "plt.ylabel('Count')\n",
    "plt.show()"
   ]
  },
  {
   "cell_type": "code",
   "execution_count": 51,
   "id": "eb62b9ec",
   "metadata": {},
   "outputs": [
    {
     "data": {
      "image/png": "[encoded data removed]",
      "text/plain": [
       "<Figure size 640x480 with 1 Axes>"
      ]
     },
     "metadata": {},
     "output_type": "display_data"
    }
   ],
   "source": [
    "df.groupby(['Insurance Provider'])['Billing Amount'].mean().plot(kind='bar', color='purple')\n",
    "plt.title('Average Billing Amount by Insurance Provider')\n",
    "plt.xlabel('Insurance Provider')\n",
    "plt.ylabel('Average Billing Amount')\n",
    "plt.show()"
   ]
  },
  {
   "cell_type": "code",
   "execution_count": 52,
   "id": "b82d50e8",
   "metadata": {},
   "outputs": [
    {
     "data": {
      "application/vnd.microsoft.datawrangler.viewer.v0+json": {
       "columns": [
        {
         "name": "('Insurance Provider', 'Test Results')",
         "rawType": "object",
         "type": "unknown"
        },
        {
         "name": "count",
         "rawType": "int64",
         "type": "integer"
        }
       ],
       "ref": "946c953d-5f86-4682-8a58-d8458e217152",
       "rows": [
        [
         "('Aetna', 'Inconclusive')",
         "3629"
        ],
        [
         "('Aetna', 'Abnormal')",
         "3604"
        ],
        [
         "('Aetna', 'Normal')",
         "3589"
        ],
        [
         "('Blue Cross', 'Inconclusive')",
         "3703"
        ],
        [
         "('Blue Cross', 'Normal')",
         "3658"
        ],
        [
         "('Blue Cross', 'Abnormal')",
         "3591"
        ],
        [
         "('Cigna', 'Abnormal')",
         "3767"
        ],
        [
         "('Cigna', 'Inconclusive')",
         "3689"
        ],
        [
         "('Cigna', 'Normal')",
         "3683"
        ],
        [
         "('Medicare', 'Abnormal')",
         "3742"
        ],
        [
         "('Medicare', 'Normal')",
         "3676"
        ],
        [
         "('Medicare', 'Inconclusive')",
         "3621"
        ],
        [
         "('UnitedHealthcare', 'Abnormal')",
         "3733"
        ],
        [
         "('UnitedHealthcare', 'Normal')",
         "3725"
        ],
        [
         "('UnitedHealthcare', 'Inconclusive')",
         "3556"
        ]
       ],
       "shape": {
        "columns": 1,
        "rows": 15
       }
      },
      "text/plain": [
       "Insurance Provider  Test Results\n",
       "Aetna               Inconclusive    3629\n",
       "                    Abnormal        3604\n",
       "                    Normal          3589\n",
       "Blue Cross          Inconclusive    3703\n",
       "                    Normal          3658\n",
       "                    Abnormal        3591\n",
       "Cigna               Abnormal        3767\n",
       "                    Inconclusive    3689\n",
       "                    Normal          3683\n",
       "Medicare            Abnormal        3742\n",
       "                    Normal          3676\n",
       "                    Inconclusive    3621\n",
       "UnitedHealthcare    Abnormal        3733\n",
       "                    Normal          3725\n",
       "                    Inconclusive    3556\n",
       "Name: count, dtype: int64"
      ]
     },
     "execution_count": 52,
     "metadata": {},
     "output_type": "execute_result"
    }
   ],
   "source": [
    "df.groupby(['Insurance Provider'])['Test Results'].value_counts()"
   ]
  },
  {
   "cell_type": "code",
   "execution_count": 53,
   "id": "d58439ff",
   "metadata": {},
   "outputs": [
    {
     "data": {
      "image/png": "[encoded data removed]",
      "text/plain": [
       "<Figure size 1000x600 with 1 Axes>"
      ]
     },
     "metadata": {},
     "output_type": "display_data"
    }
   ],
   "source": [
    "df.groupby(['Insurance Provider'])['Test Results'].value_counts().unstack().plot(kind='bar', stacked=True, figsize=(10,6))\n",
    "plt.title('Test Results by Insurance Provider')\n",
    "plt.xlabel('Insurance Provider')\n",
    "plt.ylabel('Count')\n",
    "plt.show()"
   ]
  },
  {
   "cell_type": "code",
   "execution_count": 54,
   "id": "47471f08",
   "metadata": {},
   "outputs": [
    {
     "name": "stdout",
     "output_type": "stream",
     "text": [
      "Medical Condition\n",
      "Arthritis       9218\n",
      "Diabetes        9216\n",
      "Hypertension    9151\n",
      "Obesity         9146\n",
      "Cancer          9140\n",
      "Asthma          9095\n",
      "Name: count, dtype: int64\n"
     ]
    }
   ],
   "source": [
    "# .\tWhat are the most common medical conditions among admitted patients?\n",
    "\n",
    "print(df['Medical Condition'].value_counts())"
   ]
  },
  {
   "cell_type": "code",
   "execution_count": 55,
   "id": "9d6204aa",
   "metadata": {},
   "outputs": [
    {
     "data": {
      "application/vnd.microsoft.datawrangler.viewer.v0+json": {
       "columns": [
        {
         "name": "index",
         "rawType": "int64",
         "type": "integer"
        },
        {
         "name": "Age Group",
         "rawType": "category",
         "type": "unknown"
        }
       ],
       "ref": "60ce4939-1ac6-4d91-8d0b-d93f7672b71e",
       "rows": [
        [
         "0",
         "Young Adult"
        ],
        [
         "1",
         "Middle Aged"
        ],
        [
         "2",
         "Senior"
        ],
        [
         "3",
         "Young Adult"
        ],
        [
         "4",
         "Adult"
        ],
        [
         "5",
         "Adult"
        ],
        [
         "6",
         "Young Adult"
        ],
        [
         "7",
         "Young Adult"
        ],
        [
         "8",
         "Senior"
        ],
        [
         "9",
         "Middle Aged"
        ],
        [
         "10",
         "Senior"
        ],
        [
         "11",
         "Adult"
        ],
        [
         "12",
         "Senior"
        ],
        [
         "13",
         "Senior"
        ],
        [
         "14",
         "Adult"
        ],
        [
         "15",
         "Adult"
        ],
        [
         "16",
         "Middle Aged"
        ],
        [
         "17",
         "Adult"
        ],
        [
         "18",
         "Young Adult"
        ],
        [
         "19",
         "Middle Aged"
        ],
        [
         "20",
         "Senior"
        ],
        [
         "21",
         "Adult"
        ],
        [
         "22",
         "Middle Aged"
        ],
        [
         "23",
         "Middle Aged"
        ],
        [
         "24",
         "Senior"
        ],
        [
         "25",
         "Senior"
        ],
        [
         "26",
         "Middle Aged"
        ],
        [
         "27",
         "Young Adult"
        ],
        [
         "28",
         "Adult"
        ],
        [
         "29",
         "Middle Aged"
        ],
        [
         "30",
         "Young Adult"
        ],
        [
         "31",
         "Young Adult"
        ],
        [
         "32",
         "Senior"
        ],
        [
         "33",
         "Adult"
        ],
        [
         "34",
         "Young Adult"
        ],
        [
         "35",
         "Young Adult"
        ],
        [
         "36",
         "Young Adult"
        ],
        [
         "37",
         "Young Adult"
        ],
        [
         "38",
         "Senior"
        ],
        [
         "39",
         "Middle Aged"
        ],
        [
         "40",
         "Senior"
        ],
        [
         "41",
         "Senior"
        ],
        [
         "42",
         "Adult"
        ],
        [
         "43",
         "Young Adult"
        ],
        [
         "44",
         "Senior"
        ],
        [
         "45",
         "Middle Aged"
        ],
        [
         "46",
         "Young Adult"
        ],
        [
         "47",
         "Middle Aged"
        ],
        [
         "48",
         "Young Adult"
        ],
        [
         "49",
         "Senior"
        ]
       ],
       "shape": {
        "columns": 1,
        "rows": 54966
       }
      },
      "text/plain": [
       "0        Young Adult\n",
       "1        Middle Aged\n",
       "2             Senior\n",
       "3        Young Adult\n",
       "4              Adult\n",
       "            ...     \n",
       "55495          Adult\n",
       "55496    Middle Aged\n",
       "55497          Adult\n",
       "55498          Adult\n",
       "55499    Middle Aged\n",
       "Name: Age Group, Length: 54966, dtype: category\n",
       "Categories (6, object): ['Child' < 'Teen' < 'Young Adult' < 'Adult' < 'Middle Aged' < 'Senior']"
      ]
     },
     "execution_count": 55,
     "metadata": {},
     "output_type": "execute_result"
    }
   ],
   "source": [
    "# Which age group has the highest proportion of abnormal test results?\n",
    "\n",
    "df['Age Group'] = pd.cut(df['Age'], bins=[0, 12, 19, 35, 50, 65, 100], labels=['Child', 'Teen', 'Young Adult', 'Adult', 'Middle Aged', 'Senior'])\n",
    "df['Age Group']"
   ]
  },
  {
   "cell_type": "code",
   "execution_count": 56,
   "id": "08b94b57",
   "metadata": {},
   "outputs": [
    {
     "data": {
      "application/vnd.microsoft.datawrangler.viewer.v0+json": {
       "columns": [
        {
         "name": "Age Group",
         "rawType": "category",
         "type": "unknown"
        },
        {
         "name": "count",
         "rawType": "int64",
         "type": "integer"
        }
       ],
       "ref": "22b63ba7-6710-4adc-a180-249ea71c4217",
       "rows": [
        [
         "Senior",
         "16096"
        ],
        [
         "Young Adult",
         "12728"
        ],
        [
         "Middle Aged",
         "12298"
        ],
        [
         "Adult",
         "12167"
        ],
        [
         "Teen",
         "1677"
        ],
        [
         "Child",
         "0"
        ]
       ],
       "shape": {
        "columns": 1,
        "rows": 6
       }
      },
      "text/plain": [
       "Age Group\n",
       "Senior         16096\n",
       "Young Adult    12728\n",
       "Middle Aged    12298\n",
       "Adult          12167\n",
       "Teen            1677\n",
       "Child              0\n",
       "Name: count, dtype: int64"
      ]
     },
     "execution_count": 56,
     "metadata": {},
     "output_type": "execute_result"
    }
   ],
   "source": [
    "df['Age Group'].value_counts()"
   ]
  },
  {
   "cell_type": "code",
   "execution_count": 57,
   "id": "34e0f759",
   "metadata": {},
   "outputs": [
    {
     "data": {
      "image/png": "[encoded data removed]",
      "text/plain": [
       "<Figure size 640x480 with 1 Axes>"
      ]
     },
     "metadata": {},
     "output_type": "display_data"
    }
   ],
   "source": [
    "df['Age Group'].value_counts().plot(kind='bar', color='cyan')\n",
    "plt.title('Distribution of Age Groups')\n",
    "plt.xlabel('Age Group')\n",
    "plt.ylabel('Count')\n",
    "plt.show()"
   ]
  },
  {
   "cell_type": "code",
   "execution_count": 58,
   "id": "3de22e06",
   "metadata": {},
   "outputs": [
    {
     "name": "stderr",
     "output_type": "stream",
     "text": [
      "C:\\Users\\DELL\\AppData\\Local\\Temp\\ipykernel_24060\\1057408427.py:1: FutureWarning: The default of observed=False is deprecated and will be changed to True in a future version of pandas. Pass observed=False to retain current behavior or observed=True to adopt the future default and silence this warning.\n",
      "  df.groupby('Age Group')['Test Results'].value_counts()\n"
     ]
    },
    {
     "data": {
      "application/vnd.microsoft.datawrangler.viewer.v0+json": {
       "columns": [
        {
         "name": "('Age Group', 'Test Results')",
         "rawType": "object",
         "type": "unknown"
        },
        {
         "name": "count",
         "rawType": "int64",
         "type": "integer"
        }
       ],
       "ref": "159eff7c-9f16-4072-b6aa-f1bcd81e5ec9",
       "rows": [
        [
         "('Child', 'Abnormal')",
         "0"
        ],
        [
         "('Child', 'Inconclusive')",
         "0"
        ],
        [
         "('Child', 'Normal')",
         "0"
        ],
        [
         "('Teen', 'Normal')",
         "583"
        ],
        [
         "('Teen', 'Abnormal')",
         "562"
        ],
        [
         "('Teen', 'Inconclusive')",
         "532"
        ],
        [
         "('Young Adult', 'Normal')",
         "4353"
        ],
        [
         "('Young Adult', 'Abnormal')",
         "4198"
        ],
        [
         "('Young Adult', 'Inconclusive')",
         "4177"
        ],
        [
         "('Adult', 'Abnormal')",
         "4079"
        ],
        [
         "('Adult', 'Inconclusive')",
         "4044"
        ],
        [
         "('Adult', 'Normal')",
         "4044"
        ],
        [
         "('Middle Aged', 'Abnormal')",
         "4192"
        ],
        [
         "('Middle Aged', 'Inconclusive')",
         "4114"
        ],
        [
         "('Middle Aged', 'Normal')",
         "3992"
        ],
        [
         "('Senior', 'Abnormal')",
         "5406"
        ],
        [
         "('Senior', 'Normal')",
         "5359"
        ],
        [
         "('Senior', 'Inconclusive')",
         "5331"
        ]
       ],
       "shape": {
        "columns": 1,
        "rows": 18
       }
      },
      "text/plain": [
       "Age Group    Test Results\n",
       "Child        Abnormal           0\n",
       "             Inconclusive       0\n",
       "             Normal             0\n",
       "Teen         Normal           583\n",
       "             Abnormal         562\n",
       "             Inconclusive     532\n",
       "Young Adult  Normal          4353\n",
       "             Abnormal        4198\n",
       "             Inconclusive    4177\n",
       "Adult        Abnormal        4079\n",
       "             Inconclusive    4044\n",
       "             Normal          4044\n",
       "Middle Aged  Abnormal        4192\n",
       "             Inconclusive    4114\n",
       "             Normal          3992\n",
       "Senior       Abnormal        5406\n",
       "             Normal          5359\n",
       "             Inconclusive    5331\n",
       "Name: count, dtype: int64"
      ]
     },
     "execution_count": 58,
     "metadata": {},
     "output_type": "execute_result"
    }
   ],
   "source": [
    "df.groupby('Age Group')['Test Results'].value_counts()"
   ]
  },
  {
   "cell_type": "code",
   "execution_count": 59,
   "id": "b377f25c",
   "metadata": {},
   "outputs": [
    {
     "name": "stderr",
     "output_type": "stream",
     "text": [
      "C:\\Users\\DELL\\AppData\\Local\\Temp\\ipykernel_24060\\851817264.py:2: FutureWarning: The default of observed=False is deprecated and will be changed to True in a future version of pandas. Pass observed=False to retain current behavior or observed=True to adopt the future default and silence this warning.\n",
      "  abnormal_counts = df[df['Test Results'] == 'Abnormal'].groupby('Age Group').size()\n",
      "C:\\Users\\DELL\\AppData\\Local\\Temp\\ipykernel_24060\\851817264.py:3: FutureWarning: The default of observed=False is deprecated and will be changed to True in a future version of pandas. Pass observed=False to retain current behavior or observed=True to adopt the future default and silence this warning.\n",
      "  total_counts = df.groupby('Age Group').size()\n"
     ]
    },
    {
     "data": {
      "application/vnd.microsoft.datawrangler.viewer.v0+json": {
       "columns": [
        {
         "name": "Age Group",
         "rawType": "category",
         "type": "unknown"
        },
        {
         "name": "0",
         "rawType": "float64",
         "type": "float"
        }
       ],
       "ref": "159f49cb-e30f-4dc9-8846-98ea8fdddcf9",
       "rows": [
        [
         "Middle Aged",
         "0.3408684338916897"
        ],
        [
         "Senior",
         "0.33585984095427435"
        ],
        [
         "Adult",
         "0.33525108901125994"
        ],
        [
         "Teen",
         "0.3351222420989863"
        ],
        [
         "Young Adult",
         "0.3298240100565682"
        ],
        [
         "Child",
         "0.0"
        ]
       ],
       "shape": {
        "columns": 1,
        "rows": 6
       }
      },
      "text/plain": [
       "Age Group\n",
       "Middle Aged    0.340868\n",
       "Senior         0.335860\n",
       "Adult          0.335251\n",
       "Teen           0.335122\n",
       "Young Adult    0.329824\n",
       "Child          0.000000\n",
       "dtype: float64"
      ]
     },
     "execution_count": 59,
     "metadata": {},
     "output_type": "execute_result"
    }
   ],
   "source": [
    "# Which age group has the highest proportion of abnormal test results?\n",
    "abnormal_counts = df[df['Test Results'] == 'Abnormal'].groupby('Age Group').size()\n",
    "total_counts = df.groupby('Age Group').size()\n",
    "proportion_abnormal = (abnormal_counts / total_counts).fillna(0)\n",
    "proportion_abnormal.sort_values(ascending=False)"
   ]
  },
  {
   "cell_type": "code",
   "execution_count": 60,
   "id": "a18e6b68",
   "metadata": {},
   "outputs": [
    {
     "data": {
      "application/vnd.microsoft.datawrangler.viewer.v0+json": {
       "columns": [
        {
         "name": "Age Group",
         "rawType": "category",
         "type": "unknown"
        },
        {
         "name": "0",
         "rawType": "int64",
         "type": "integer"
        }
       ],
       "ref": "05d68d0f-5599-4df3-a64e-33d16c717a06",
       "rows": [
        [
         "Child",
         "0"
        ],
        [
         "Teen",
         "562"
        ],
        [
         "Young Adult",
         "4198"
        ],
        [
         "Adult",
         "4079"
        ],
        [
         "Middle Aged",
         "4192"
        ],
        [
         "Senior",
         "5406"
        ]
       ],
       "shape": {
        "columns": 1,
        "rows": 6
       }
      },
      "text/plain": [
       "Age Group\n",
       "Child             0\n",
       "Teen            562\n",
       "Young Adult    4198\n",
       "Adult          4079\n",
       "Middle Aged    4192\n",
       "Senior         5406\n",
       "dtype: int64"
      ]
     },
     "execution_count": 60,
     "metadata": {},
     "output_type": "execute_result"
    }
   ],
   "source": [
    "abnormal_counts"
   ]
  },
  {
   "cell_type": "code",
   "execution_count": 61,
   "id": "e33363df",
   "metadata": {},
   "outputs": [
    {
     "name": "stdout",
     "output_type": "stream",
     "text": [
      "Middle Aged age group has the highest proportion of abnormal test results. Followed by Senior age group.\n"
     ]
    }
   ],
   "source": [
    "print(\"Middle Aged age group has the highest proportion of abnormal test results. Followed by Senior age group.\")"
   ]
  },
  {
   "cell_type": "code",
   "execution_count": 62,
   "id": "58cac834",
   "metadata": {},
   "outputs": [
    {
     "data": {
      "image/png": "[encoded data removed]",
      "text/plain": [
       "<Figure size 640x480 with 1 Axes>"
      ]
     },
     "metadata": {},
     "output_type": "display_data"
    }
   ],
   "source": [
    "proportion_abnormal.plot(kind='bar', color='magenta')\n",
    "plt.title('Proportion of Abnormal Test Results by Age Group')\n",
    "plt.xlabel('Age Group')\n",
    "plt.ylabel('Proportion of Abnormal Results')\n",
    "plt.show()"
   ]
  },
  {
   "cell_type": "code",
   "execution_count": 63,
   "id": "6af0d098",
   "metadata": {},
   "outputs": [
    {
     "data": {
      "application/vnd.microsoft.datawrangler.viewer.v0+json": {
       "columns": [
        {
         "name": "('Gender', 'Test Results')",
         "rawType": "object",
         "type": "unknown"
        },
        {
         "name": "count",
         "rawType": "int64",
         "type": "integer"
        }
       ],
       "ref": "dd78db42-6f3b-4115-bf8c-657ab4961cc2",
       "rows": [
        [
         "(np.int64(0), 'Normal')",
         "9251"
        ],
        [
         "(np.int64(0), 'Abnormal')",
         "9190"
        ],
        [
         "(np.int64(0), 'Inconclusive')",
         "9055"
        ],
        [
         "(np.int64(1), 'Abnormal')",
         "9247"
        ],
        [
         "(np.int64(1), 'Inconclusive')",
         "9143"
        ],
        [
         "(np.int64(1), 'Normal')",
         "9080"
        ]
       ],
       "shape": {
        "columns": 1,
        "rows": 6
       }
      },
      "text/plain": [
       "Gender  Test Results\n",
       "0       Normal          9251\n",
       "        Abnormal        9190\n",
       "        Inconclusive    9055\n",
       "1       Abnormal        9247\n",
       "        Inconclusive    9143\n",
       "        Normal          9080\n",
       "Name: count, dtype: int64"
      ]
     },
     "execution_count": 63,
     "metadata": {},
     "output_type": "execute_result"
    }
   ],
   "source": [
    "# Are there any gender differences in test outcomes?\n",
    "\n",
    "df.groupby('Gender')['Test Results'].value_counts()"
   ]
  },
  {
   "cell_type": "code",
   "execution_count": 64,
   "id": "f4b3044c",
   "metadata": {},
   "outputs": [
    {
     "data": {
      "image/png": "[encoded data removed]",
      "text/plain": [
       "<Figure size 800x600 with 1 Axes>"
      ]
     },
     "metadata": {},
     "output_type": "display_data"
    }
   ],
   "source": [
    "df.groupby('Gender')['Test Results'].value_counts().plot(kind='bar', stacked=True, figsize=(8,6))\n",
    "plt.title('Gender Differences in Test Outcomes')\n",
    "plt.xlabel('Gender')\n",
    "plt.ylabel('Count')\n",
    "plt.show()"
   ]
  },
  {
   "cell_type": "code",
   "execution_count": 65,
   "id": "7489454b",
   "metadata": {},
   "outputs": [
    {
     "data": {
      "text/plain": [
       "Index(['Name', 'Age', 'Gender', 'Blood Type', 'Medical Condition',\n",
       "       'Admission Date', 'Attending Doctor', 'Hospital', 'Insurance Provider',\n",
       "       'Billing Amount', 'Room Number', 'Admission Type', 'Discharge Date',\n",
       "       'Medication', 'Test Results', 'Age Group'],\n",
       "      dtype='object')"
      ]
     },
     "execution_count": 65,
     "metadata": {},
     "output_type": "execute_result"
    }
   ],
   "source": [
    "df.columns"
   ]
  },
  {
   "cell_type": "code",
   "execution_count": 66,
   "id": "2333ccb6",
   "metadata": {},
   "outputs": [
    {
     "name": "stderr",
     "output_type": "stream",
     "text": [
      "C:\\Users\\DELL\\AppData\\Local\\Temp\\ipykernel_24060\\4097025721.py:1: FutureWarning: The default of observed=False is deprecated and will be changed to True in a future version of pandas. Pass observed=False to retain current behavior or observed=True to adopt the future default and silence this warning.\n",
      "  df.groupby(['Gender','Age Group'])['Test Results'].value_counts()\n"
     ]
    },
    {
     "data": {
      "application/vnd.microsoft.datawrangler.viewer.v0+json": {
       "columns": [
        {
         "name": "('Gender', 'Age Group', 'Test Results')",
         "rawType": "object",
         "type": "unknown"
        },
        {
         "name": "count",
         "rawType": "int64",
         "type": "integer"
        }
       ],
       "ref": "66c9d01f-76a2-45f7-92a5-1053e5a11791",
       "rows": [
        [
         "(np.int64(0), 'Child', 'Abnormal')",
         "0"
        ],
        [
         "(np.int64(0), 'Child', 'Inconclusive')",
         "0"
        ],
        [
         "(np.int64(0), 'Child', 'Normal')",
         "0"
        ],
        [
         "(np.int64(0), 'Teen', 'Normal')",
         "304"
        ],
        [
         "(np.int64(0), 'Teen', 'Abnormal')",
         "259"
        ],
        [
         "(np.int64(0), 'Teen', 'Inconclusive')",
         "259"
        ],
        [
         "(np.int64(0), 'Young Adult', 'Normal')",
         "2162"
        ],
        [
         "(np.int64(0), 'Young Adult', 'Inconclusive')",
         "2111"
        ],
        [
         "(np.int64(0), 'Young Adult', 'Abnormal')",
         "2079"
        ],
        [
         "(np.int64(0), 'Adult', 'Abnormal')",
         "2069"
        ],
        [
         "(np.int64(0), 'Adult', 'Normal')",
         "2048"
        ],
        [
         "(np.int64(0), 'Adult', 'Inconclusive')",
         "1996"
        ],
        [
         "(np.int64(0), 'Middle Aged', 'Abnormal')",
         "2123"
        ],
        [
         "(np.int64(0), 'Middle Aged', 'Normal')",
         "2055"
        ],
        [
         "(np.int64(0), 'Middle Aged', 'Inconclusive')",
         "2046"
        ],
        [
         "(np.int64(0), 'Senior', 'Normal')",
         "2682"
        ],
        [
         "(np.int64(0), 'Senior', 'Abnormal')",
         "2660"
        ],
        [
         "(np.int64(0), 'Senior', 'Inconclusive')",
         "2643"
        ],
        [
         "(np.int64(1), 'Child', 'Abnormal')",
         "0"
        ],
        [
         "(np.int64(1), 'Child', 'Inconclusive')",
         "0"
        ],
        [
         "(np.int64(1), 'Child', 'Normal')",
         "0"
        ],
        [
         "(np.int64(1), 'Teen', 'Abnormal')",
         "303"
        ],
        [
         "(np.int64(1), 'Teen', 'Normal')",
         "279"
        ],
        [
         "(np.int64(1), 'Teen', 'Inconclusive')",
         "273"
        ],
        [
         "(np.int64(1), 'Young Adult', 'Normal')",
         "2191"
        ],
        [
         "(np.int64(1), 'Young Adult', 'Abnormal')",
         "2119"
        ],
        [
         "(np.int64(1), 'Young Adult', 'Inconclusive')",
         "2066"
        ],
        [
         "(np.int64(1), 'Adult', 'Inconclusive')",
         "2048"
        ],
        [
         "(np.int64(1), 'Adult', 'Abnormal')",
         "2010"
        ],
        [
         "(np.int64(1), 'Adult', 'Normal')",
         "1996"
        ],
        [
         "(np.int64(1), 'Middle Aged', 'Abnormal')",
         "2069"
        ],
        [
         "(np.int64(1), 'Middle Aged', 'Inconclusive')",
         "2068"
        ],
        [
         "(np.int64(1), 'Middle Aged', 'Normal')",
         "1937"
        ],
        [
         "(np.int64(1), 'Senior', 'Abnormal')",
         "2746"
        ],
        [
         "(np.int64(1), 'Senior', 'Inconclusive')",
         "2688"
        ],
        [
         "(np.int64(1), 'Senior', 'Normal')",
         "2677"
        ]
       ],
       "shape": {
        "columns": 1,
        "rows": 36
       }
      },
      "text/plain": [
       "Gender  Age Group    Test Results\n",
       "0       Child        Abnormal           0\n",
       "                     Inconclusive       0\n",
       "                     Normal             0\n",
       "        Teen         Normal           304\n",
       "                     Abnormal         259\n",
       "                     Inconclusive     259\n",
       "        Young Adult  Normal          2162\n",
       "                     Inconclusive    2111\n",
       "                     Abnormal        2079\n",
       "        Adult        Abnormal        2069\n",
       "                     Normal          2048\n",
       "                     Inconclusive    1996\n",
       "        Middle Aged  Abnormal        2123\n",
       "                     Normal          2055\n",
       "                     Inconclusive    2046\n",
       "        Senior       Normal          2682\n",
       "                     Abnormal        2660\n",
       "                     Inconclusive    2643\n",
       "1       Child        Abnormal           0\n",
       "                     Inconclusive       0\n",
       "                     Normal             0\n",
       "        Teen         Abnormal         303\n",
       "                     Normal           279\n",
       "                     Inconclusive     273\n",
       "        Young Adult  Normal          2191\n",
       "                     Abnormal        2119\n",
       "                     Inconclusive    2066\n",
       "        Adult        Inconclusive    2048\n",
       "                     Abnormal        2010\n",
       "                     Normal          1996\n",
       "        Middle Aged  Abnormal        2069\n",
       "                     Inconclusive    2068\n",
       "                     Normal          1937\n",
       "        Senior       Abnormal        2746\n",
       "                     Inconclusive    2688\n",
       "                     Normal          2677\n",
       "Name: count, dtype: int64"
      ]
     },
     "execution_count": 66,
     "metadata": {},
     "output_type": "execute_result"
    }
   ],
   "source": [
    "df.groupby(['Gender','Age Group'])['Test Results'].value_counts()"
   ]
  },
  {
   "cell_type": "code",
   "execution_count": 67,
   "id": "2befc525",
   "metadata": {},
   "outputs": [
    {
     "name": "stderr",
     "output_type": "stream",
     "text": [
      "C:\\Users\\DELL\\AppData\\Local\\Temp\\ipykernel_24060\\3513012684.py:1: FutureWarning: The default of observed=False is deprecated and will be changed to True in a future version of pandas. Pass observed=False to retain current behavior or observed=True to adopt the future default and silence this warning.\n",
      "  df.groupby(['Gender','Age Group'])['Test Results'].value_counts().plot(kind='bar', stacked=True, figsize=(10,6))\n"
     ]
    },
    {
     "data": {
      "image/png": "[encoded data removed]",
      "text/plain": [
       "<Figure size 1000x600 with 1 Axes>"
      ]
     },
     "metadata": {},
     "output_type": "display_data"
    }
   ],
   "source": [
    "df.groupby(['Gender','Age Group'])['Test Results'].value_counts().plot(kind='bar', stacked=True, figsize=(10,6))\n",
    "plt.title('Test Results by Gender and Age Group')\n",
    "plt.xlabel('Gender and Age Group')\n",
    "plt.ylabel('Count')\n",
    "plt.show()"
   ]
  },
  {
   "cell_type": "code",
   "execution_count": 68,
   "id": "76ffef71",
   "metadata": {},
   "outputs": [
    {
     "name": "stderr",
     "output_type": "stream",
     "text": [
      "C:\\Users\\DELL\\AppData\\Local\\Temp\\ipykernel_24060\\3866171355.py:1: FutureWarning: The default of observed=False is deprecated and will be changed to True in a future version of pandas. Pass observed=False to retain current behavior or observed=True to adopt the future default and silence this warning.\n",
      "  pivot = df.groupby(['Age Group','Gender']).size().unstack(fill_value=0)\n"
     ]
    },
    {
     "data": {
      "image/png": "[encoded data removed]",
      "text/plain": [
       "<Figure size 1000x600 with 1 Axes>"
      ]
     },
     "metadata": {},
     "output_type": "display_data"
    }
   ],
   "source": [
    "\n",
    "pivot = df.groupby(['Age Group','Gender']).size().unstack(fill_value=0)\n",
    "colors = ['blue' if g == 0 else 'pink' for g in pivot.columns]\n",
    "\n",
    "pivot.plot(kind='bar', figsize=(10,6), color=colors)\n",
    "plt.title('Patient counts by Age Group and Gender')\n",
    "plt.xlabel('Age Group')\n",
    "plt.ylabel('Count')\n",
    "plt.legend([ 'Male' if g==0 else 'Female' for g in pivot.columns ], title='Gender')\n",
    "plt.show()"
   ]
  },
  {
   "cell_type": "code",
   "execution_count": 69,
   "id": "7c2e5959",
   "metadata": {},
   "outputs": [
    {
     "name": "stderr",
     "output_type": "stream",
     "text": [
      "C:\\Users\\DELL\\AppData\\Local\\Temp\\ipykernel_24060\\1626085820.py:3: FutureWarning: The default of observed=False is deprecated and will be changed to True in a future version of pandas. Pass observed=False to retain current behavior or observed=True to adopt the future default and silence this warning.\n",
      "  .groupby('Age Group')['Test Results']\n",
      "C:\\Users\\DELL\\AppData\\Local\\Temp\\ipykernel_24060\\1626085820.py:9: FutureWarning: The default of observed=False is deprecated and will be changed to True in a future version of pandas. Pass observed=False to retain current behavior or observed=True to adopt the future default and silence this warning.\n",
      "  .groupby('Age Group')['Test Results']\n"
     ]
    },
    {
     "data": {
      "image/png": "[encoded data removed]",
      "text/plain": [
       "<Figure size 1400x600 with 2 Axes>"
      ]
     },
     "metadata": {},
     "output_type": "display_data"
    }
   ],
   "source": [
    "age_order = ['Child','Teen','Young Adult','Adult','Middle Aged','Senior']\n",
    "male = (df[df['Gender'] == 0]\n",
    "        .groupby('Age Group')['Test Results']\n",
    "        .value_counts()\n",
    "        .unstack(fill_value=0)\n",
    "        .reindex(age_order)\n",
    "        .fillna(0))\n",
    "female = (df[df['Gender'] == 1]\n",
    "          .groupby('Age Group')['Test Results']\n",
    "          .value_counts()\n",
    "          .unstack(fill_value=0)\n",
    "          .reindex(age_order)\n",
    "          .fillna(0))\n",
    "\n",
    "cols = sorted(set(male.columns).union(set(female.columns)))\n",
    "male = male.reindex(columns=cols, fill_value=0)\n",
    "female = female.reindex(columns=cols, fill_value=0)\n",
    "\n",
    "# color palettes: blue shades for males, pink shades for females\n",
    "import seaborn as sns\n",
    "n = len(cols)\n",
    "colors_m = sns.color_palette(\"Blues\", n)\n",
    "colors_f = sns.light_palette(\"pink\", n)\n",
    "\n",
    "# plot side-by-side stacked bars\n",
    "fig, axes = plt.subplots(1, 2, figsize=(14,6), sharey=True)\n",
    "male.plot(kind='bar', stacked=True, ax=axes[0], color=colors_m)\n",
    "axes[0].set_title('Male (0) — Test Results by Age Group')\n",
    "axes[0].set_xlabel('Age Group')\n",
    "axes[0].set_ylabel('Count')\n",
    "\n",
    "female.plot(kind='bar', stacked=True, ax=axes[1], color=colors_f)\n",
    "axes[1].set_title('Female (1) — Test Results by Age Group')\n",
    "axes[1].set_xlabel('Age Group')\n",
    "\n",
    "# legend for test result categories\n",
    "axes[1].legend(title='Test Results', bbox_to_anchor=(1.05,1), loc='upper left')\n",
    "\n",
    "plt.suptitle('Test Results by Age Group and Gender')\n",
    "plt.tight_layout(rect=[0,0,0.85,0.95])\n",
    "plt.show()"
   ]
  },
  {
   "cell_type": "code",
   "execution_count": 73,
   "id": "4f5ee411",
   "metadata": {},
   "outputs": [
    {
     "data": {
      "image/png": "[encoded data removed]",
      "text/plain": [
       "<Figure size 1545.87x400 with 3 Axes>"
      ]
     },
     "metadata": {},
     "output_type": "display_data"
    }
   ],
   "source": [
    "# Compare genders together: counts by Age Group with hue=Gender, faceted by Test Results\n",
    "df['Gender_str'] = df['Gender'].map({0: 'Male', 1: 'Female'})\n",
    "age_order = ['Child','Teen','Young Adult','Adult','Middle Aged','Senior']\n",
    "\n",
    "import seaborn as sns\n",
    "sns.set(style=\"whitegrid\")\n",
    "\n",
    "g = sns.catplot(\n",
    "    data=df,\n",
    "    kind='count',\n",
    "    x='Age Group',\n",
    "    hue='Gender_str',\n",
    "    col='Test Results',\n",
    "    col_wrap=3,\n",
    "    order=age_order,\n",
    "    palette={'Male':'blue', 'Female':'pink'},\n",
    "    height=4,\n",
    "    aspect=1.2\n",
    ")\n",
    "\n",
    "g.set_axis_labels(\"Age Group\", \"Count\")\n",
    "g.set_titles(\"{col_name}\")\n",
    "g._legend.set_title(\"Gender\")\n",
    "plt.suptitle(\"Test Results by Age Group — Male (blue) vs Female (pink)\", y=1.02)\n",
    "plt.tight_layout()\n",
    "plt.show()\n"
   ]
  },
  {
   "cell_type": "code",
   "execution_count": 77,
   "id": "fdaf3771",
   "metadata": {},
   "outputs": [
    {
     "data": {
      "image/png": "[encoded data removed]",
      "text/plain": [
       "<Figure size 1000x600 with 1 Axes>"
      ]
     },
     "metadata": {},
     "output_type": "display_data"
    }
   ],
   "source": [
    "# Which blood types show higher rates of inconclusive results?\n",
    "\n",
    "df.groupby('Blood Type')['Test Results'].value_counts(normalize=True).unstack().plot(kind='bar', stacked=True, figsize=(10,6))\n",
    "plt.title('Test Results by Blood Type')\n",
    "plt.xlabel('Blood Type')\n",
    "plt.ylabel('Count')\n",
    "plt.show()"
   ]
  },
  {
   "cell_type": "code",
   "execution_count": 80,
   "id": "1605f7b2",
   "metadata": {},
   "outputs": [
    {
     "data": {
      "application/vnd.microsoft.datawrangler.viewer.v0+json": {
       "columns": [
        {
         "name": "('Blood Type', 'Test Results')",
         "rawType": "object",
         "type": "unknown"
        },
        {
         "name": "count",
         "rawType": "int64",
         "type": "integer"
        }
       ],
       "ref": "70797921-0a67-4bf3-aa3a-6914ab192e01",
       "rows": [
        [
         "('A+', 'Abnormal')",
         "2314"
        ],
        [
         "('A+', 'Inconclusive')",
         "2308"
        ],
        [
         "('A+', 'Normal')",
         "2274"
        ],
        [
         "('A-', 'Abnormal')",
         "2312"
        ],
        [
         "('A-', 'Normal')",
         "2307"
        ],
        [
         "('A-', 'Inconclusive')",
         "2279"
        ],
        [
         "('AB+', 'Inconclusive')",
         "2309"
        ],
        [
         "('AB+', 'Normal')",
         "2292"
        ],
        [
         "('AB+', 'Abnormal')",
         "2281"
        ],
        [
         "('AB-', 'Normal')",
         "2340"
        ],
        [
         "('AB-', 'Abnormal')",
         "2310"
        ],
        [
         "('AB-', 'Inconclusive')",
         "2224"
        ],
        [
         "('B+', 'Inconclusive')",
         "2349"
        ],
        [
         "('B+', 'Abnormal')",
         "2281"
        ],
        [
         "('B+', 'Normal')",
         "2255"
        ],
        [
         "('B-', 'Abnormal')",
         "2324"
        ],
        [
         "('B-', 'Normal')",
         "2301"
        ],
        [
         "('B-', 'Inconclusive')",
         "2247"
        ],
        [
         "('O+', 'Abnormal')",
         "2326"
        ],
        [
         "('O+', 'Normal')",
         "2287"
        ],
        [
         "('O+', 'Inconclusive')",
         "2242"
        ],
        [
         "('O-', 'Abnormal')",
         "2289"
        ],
        [
         "('O-', 'Normal')",
         "2275"
        ],
        [
         "('O-', 'Inconclusive')",
         "2240"
        ]
       ],
       "shape": {
        "columns": 1,
        "rows": 24
       }
      },
      "text/plain": [
       "Blood Type  Test Results\n",
       "A+          Abnormal        2314\n",
       "            Inconclusive    2308\n",
       "            Normal          2274\n",
       "A-          Abnormal        2312\n",
       "            Normal          2307\n",
       "            Inconclusive    2279\n",
       "AB+         Inconclusive    2309\n",
       "            Normal          2292\n",
       "            Abnormal        2281\n",
       "AB-         Normal          2340\n",
       "            Abnormal        2310\n",
       "            Inconclusive    2224\n",
       "B+          Inconclusive    2349\n",
       "            Abnormal        2281\n",
       "            Normal          2255\n",
       "B-          Abnormal        2324\n",
       "            Normal          2301\n",
       "            Inconclusive    2247\n",
       "O+          Abnormal        2326\n",
       "            Normal          2287\n",
       "            Inconclusive    2242\n",
       "O-          Abnormal        2289\n",
       "            Normal          2275\n",
       "            Inconclusive    2240\n",
       "Name: count, dtype: int64"
      ]
     },
     "execution_count": 80,
     "metadata": {},
     "output_type": "execute_result"
    }
   ],
   "source": [
    "df.groupby('Blood Type')['Test Results'].value_counts()"
   ]
  },
  {
   "cell_type": "code",
   "execution_count": 81,
   "id": "3940c6e6",
   "metadata": {},
   "outputs": [],
   "source": [
    "# B+, AB+ and A+ have higher rates of inconclusive results.\n",
    "# AB-, O- and O+ have lower rates of inconclusive results."
   ]
  },
  {
   "cell_type": "code",
   "execution_count": null,
   "id": "a2bfae1f",
   "metadata": {},
   "outputs": [],
   "source": []
  }
 ],
 "metadata": {
  "kernelspec": {
   "display_name": ".conda",
   "language": "python",
   "name": "python3"
  },
  "language_info": {
   "codemirror_mode": {
    "name": "ipython",
    "version": 3
   },
   "file_extension": ".py",
   "mimetype": "text/x-python",
   "name": "python",
   "nbconvert_exporter": "python",
   "pygments_lexer": "ipython3",
   "version": "3.12.12"
  }
 },
 "nbformat": 4,
 "nbformat_minor": 5
}
